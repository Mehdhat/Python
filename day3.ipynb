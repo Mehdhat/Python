{
  "nbformat": 4,
  "nbformat_minor": 0,
  "metadata": {
    "colab": {
      "provenance": []
    },
    "kernelspec": {
      "name": "python3",
      "display_name": "Python 3"
    },
    "language_info": {
      "name": "python"
    }
  },
  "cells": [
    {
      "cell_type": "code",
      "execution_count": 10,
      "metadata": {
        "colab": {
          "base_uri": "https://localhost:8080/"
        },
        "id": "uUCodTlyYJL6",
        "outputId": "4c20cfa9-2683-4a30-a153-ada118817c51"
      },
      "outputs": [
        {
          "output_type": "stream",
          "name": "stdout",
          "text": [
            "['Applied', 'Python', 'Programing', True, 'C', 4, 5, 6]\n",
            "['programing hello', 'Python', 'Programing', True, 'C', 4, 5, 6]\n",
            "['Applied Program', 'Applied Program', 'Applied Program', 'Applied Program', 'Applied Program', 'Applied Program', 'Applied Program', 'Applied Program', 'Applied Program', 'Applied Program', 'Applied Program', 'Applied Program', 'Applied Program', 'Applied Program', 'Applied Program']\n",
            "['programing hello', 'Python', 'Programing', True, 'C', 4, 5, 6]\n"
          ]
        }
      ],
      "source": [
        "#list\n",
        "mylist=['Applied','Python',\"Programing\",True, 'C',4,5,6]\n",
        "mylist2=list(['Applied','Python',\"Programing\",True, 'C',4,5,6])\n",
        "mylist3=list(['Applied Program']*15)\n",
        "mylist2[0]='programing hello'\n",
        "\n",
        "print(mylist)\n",
        "print(mylist2)\n",
        "print(mylist3)\n",
        "print(mylist2)\n"
      ]
    },
    {
      "cell_type": "code",
      "source": [
        "numsequence=list(range(1,10))\n",
        "print(numsequence)"
      ],
      "metadata": {
        "id": "TA2irBhcZdkg"
      },
      "execution_count": null,
      "outputs": []
    },
    {
      "cell_type": "code",
      "source": [
        "fruits = [\"apple\", \"banana\", \"cherry\"]\n",
        "\n",
        "fruits.append(\"orange\")\n",
        "\n",
        "print(fruits)\n",
        "fruits.append(\"Kiwi\")\n",
        "print(fruits)\n",
        "fruits.insert(2,\"Black Berry\")\n",
        "print(fruits)\n"
      ],
      "metadata": {
        "id": "KkOHGA7laiJy"
      },
      "execution_count": null,
      "outputs": []
    },
    {
      "cell_type": "code",
      "source": [
        "#Delete Function\n",
        "fruits = [\"apple\", \"banana\", \"cherry\",\"1\",'5','6','7','9']\n",
        "print(fruits)\n",
        "del fruits[3]\n",
        "print(fruits)\n",
        "del fruits[0:3]\n",
        "print(fruits)\n",
        "del fruits[0::2]\n",
        "print(fruits)\n",
        "\n",
        "print(fruits)\n",
        "del fruits\n",
        "print(fruits)"
      ],
      "metadata": {
        "colab": {
          "base_uri": "https://localhost:8080/",
          "height": 274
        },
        "id": "qahFSV0fcNNH",
        "outputId": "f1c13686-9863-4d10-d5d4-b807451805bc"
      },
      "execution_count": 2,
      "outputs": [
        {
          "output_type": "stream",
          "name": "stdout",
          "text": [
            "['apple', 'banana', 'cherry', '1', '5', '6', '7', '9']\n",
            "['apple', 'banana', 'cherry', '5', '6', '7', '9']\n",
            "['5', '6', '7', '9']\n",
            "['6', '9']\n",
            "['6', '9']\n"
          ]
        },
        {
          "output_type": "error",
          "ename": "NameError",
          "evalue": "name 'fruits' is not defined",
          "traceback": [
            "\u001b[0;31m---------------------------------------------------------------------------\u001b[0m",
            "\u001b[0;31mNameError\u001b[0m                                 Traceback (most recent call last)",
            "\u001b[0;32m<ipython-input-2-d3709cb4ca9c>\u001b[0m in \u001b[0;36m<cell line: 13>\u001b[0;34m()\u001b[0m\n\u001b[1;32m     11\u001b[0m \u001b[0mprint\u001b[0m\u001b[0;34m(\u001b[0m\u001b[0mfruits\u001b[0m\u001b[0;34m)\u001b[0m\u001b[0;34m\u001b[0m\u001b[0;34m\u001b[0m\u001b[0m\n\u001b[1;32m     12\u001b[0m \u001b[0;32mdel\u001b[0m \u001b[0mfruits\u001b[0m\u001b[0;34m\u001b[0m\u001b[0;34m\u001b[0m\u001b[0m\n\u001b[0;32m---> 13\u001b[0;31m \u001b[0mprint\u001b[0m\u001b[0;34m(\u001b[0m\u001b[0mfruits\u001b[0m\u001b[0;34m)\u001b[0m\u001b[0;34m\u001b[0m\u001b[0;34m\u001b[0m\u001b[0m\n\u001b[0m",
            "\u001b[0;31mNameError\u001b[0m: name 'fruits' is not defined"
          ]
        }
      ]
    },
    {
      "cell_type": "code",
      "source": [
        "#Remove list\n",
        "newfruits = [\"apple\", \"banana\", \"cherry\",\"1\",'5','6','7','9']\n",
        "del newfruits[1]\n",
        "print(newfruits)\n",
        "newfruits.remove('cherry')\n",
        "print(newfruits)\n",
        "newfruits.pop()\n",
        "print(newfruits)\n",
        "newfruits.pop(1)\n",
        "print(newfruits)\n",
        "newfruits.clear()\n",
        "print(newfruits)\n"
      ],
      "metadata": {
        "id": "fVjQWiMke6gY"
      },
      "execution_count": null,
      "outputs": []
    },
    {
      "cell_type": "code",
      "source": [
        "#Charlist forloop\n",
        "Char_List = ['A','B','C','1','5','6','7','9']\n",
        "Char_List11=input(\"Enter you Char:\")\n",
        "for i in Char_List11:\n",
        "  if i == Char_List11:\n",
        "    print(\"Your input Char in List\")\n",
        "  else:\n",
        "    print(\"Your input Char not in List =\")"
      ],
      "metadata": {
        "id": "W4AL76Zaqq74"
      },
      "execution_count": null,
      "outputs": []
    },
    {
      "cell_type": "code",
      "source": [
        "#forloop for in\n",
        "Char_List = ['A','B','C','1','5','6','7','9']\n",
        "for a in Char_List:\n",
        "  print(a)\n"
      ],
      "metadata": {
        "id": "nNUCz8-5viSH"
      },
      "execution_count": null,
      "outputs": []
    },
    {
      "cell_type": "code",
      "source": [
        "#find Vowels in String in Python\n",
        "\n",
        "# example string\n",
        "characters = \"I love my country Pakistan. It very best\"\n",
        "\n",
        "vowels = [\"a\", \"e\", \"i\", \"o\", \"u\"]\n",
        "count = 0\n",
        "\n",
        "# using for-each loop, character is reference to a letter in the string\n",
        "for character in characters :\n",
        "    if character in vowels:\n",
        "        count += 1\n",
        "\n",
        "\n",
        "print(\"Number of vowels are: \", count)"
      ],
      "metadata": {
        "id": "1AtYwsggxPUG"
      },
      "execution_count": null,
      "outputs": []
    },
    {
      "cell_type": "code",
      "source": [
        "# prompt: create dictionary\n",
        "\n",
        "# Creating a dictionary\n",
        "my_dict = {\n",
        "  \"brand\": \"Ford\",\n",
        "  \"model\": \"Mustang\",\n",
        "  \"year\": 1964\n",
        "}\n",
        "print(my_dict)\n",
        "\n",
        "#get\n",
        "#key\n",
        "#value\n",
        "#items\n",
        "#popitem\n",
        "#pop\n",
        "#clear\n",
        "#update\n",
        "#copy\n",
        "\n",
        "for ab in my_dict.:\n",
        "  print(ab)"
      ],
      "metadata": {
        "id": "4LBeZBVOnZyY"
      },
      "execution_count": null,
      "outputs": []
    },
    {
      "cell_type": "code",
      "source": [
        "# Creating a dictionary\n",
        "my_dict = {\n",
        "    'name': 'Alice',\n",
        "    'age': 25,\n",
        "    'city': 'New York'\n",
        "}\n",
        "\n",
        "# Using get() method to access a value\n",
        "name = my_dict.get('name')\n",
        "print(f'Name: {name}')  # Output: Name: Alice"
      ],
      "metadata": {
        "id": "ZWQvNw0LqxIm"
      },
      "execution_count": null,
      "outputs": []
    },
    {
      "cell_type": "code",
      "source": [
        "keys = my_dict.keys()\n",
        "print(f'Keys: {keys}')  # Output: Keys: dict_keys(['name', 'age', 'city'])"
      ],
      "metadata": {
        "id": "8H04lKM0q9Ij"
      },
      "execution_count": null,
      "outputs": []
    },
    {
      "cell_type": "code",
      "source": [
        "# Getting values of the dictionary\n",
        "values = my_dict.values()\n",
        "print(f'Values: {values}')  # Output: Values: dict_values(['Alice', 25, 'New York'])\n"
      ],
      "metadata": {
        "id": "_fCxoBGprBuq"
      },
      "execution_count": null,
      "outputs": []
    },
    {
      "cell_type": "code",
      "source": [
        "# Getting items of the dictionary\n",
        "items = my_dict.items()\n",
        "print(f'Items: {items}')  # Output: Items: dict_items([('name', 'Alice'), ('age', 25), ('city', 'New York')])\n",
        "\n",
        "# Removing the last inserted item (popitem)\n",
        "last_item = my_dict.popitem()\n",
        "print(f'Popped item: {last_item}')  # Output: Popped item: ('city', 'New York')\n",
        "print(f'Dictionary after popitem: {my_dict}')  # Output: Dictionary after popitem: {'name': 'Alice', 'age': 25}"
      ],
      "metadata": {
        "id": "6h_4dh6xrTOw"
      },
      "execution_count": null,
      "outputs": []
    },
    {
      "cell_type": "code",
      "source": [
        "# Removing an item by key (pop)\n",
        "age = my_dict.pop('age')\n",
        "print(f'Popped value: {age}')  # Output: Popped value: 25\n",
        "print(f'Dictionary after pop: {my_dict}')  # Output: Dictionary after pop: {'name': 'Alice'}"
      ],
      "metadata": {
        "id": "Db6mVd7frWaO"
      },
      "execution_count": null,
      "outputs": []
    },
    {
      "cell_type": "code",
      "source": [
        "# Clearing all items from the dictionary\n",
        "my_dict.clear()\n",
        "print(f'Dictionary after clear: {my_dict}')  # Output: Dictionary after clear: {}"
      ],
      "metadata": {
        "id": "bkQx-7Lzrktq"
      },
      "execution_count": null,
      "outputs": []
    },
    {
      "cell_type": "code",
      "source": [
        "# Updating dictionary with new items\n",
        "my_dict.update({'name':\"dinash\",'city':\"Karachi\",'age':32})\n",
        "print(f'Dictionary after update: {my_dict}')  # Output: Dictionary after update: {'name': 'Bob', 'age': 30}"
      ],
      "metadata": {
        "id": "0mgxxNzhrsza"
      },
      "execution_count": null,
      "outputs": []
    },
    {
      "cell_type": "code",
      "source": [
        "# Creating a copy of the dictionary\n",
        "new_d = my_dict.copy()\n",
        "print(new_d)"
      ],
      "metadata": {
        "id": "L_LZi75-r2H7"
      },
      "execution_count": null,
      "outputs": []
    },
    {
      "cell_type": "code",
      "source": [
        "# Creating a dictionary\n",
        "my_dict = {\n",
        "    'name': 'Alice',\n",
        "    'age': 25,\n",
        "    'city': 'New York'\n",
        "}\n",
        "\n",
        "# Deleting an item by key\n",
        "del my_dict['age']\n",
        "print(f'Dictionary after deleting age: {my_dict}')  # Output: Dictionary after deleting age: {'name': 'Alice', 'city': 'New York'}"
      ],
      "metadata": {
        "id": "Tf5-2oJvsOf_"
      },
      "execution_count": null,
      "outputs": []
    },
    {
      "cell_type": "code",
      "source": [
        "my_dict['CNIC']='123456789'\n",
        "print(my_dict)"
      ],
      "metadata": {
        "id": "XuzKSI-4xjk_"
      },
      "execution_count": null,
      "outputs": []
    },
    {
      "source": [
        "courses={\n",
        "\n",
        "         'Python':{'Duration':'2 month','fess':35000,'Batch':1},\n",
        "         'C':{'Duration':'2 month','fess':15000,'Batch':2},\n",
        "         'C++':{'Duration':'2 month','fess':18000,'Batch':16},\n",
        "         'Java':{'Duration':'2 month','fess':30000,'Batch':3},\n",
        "         'C#':{'Duration':'2 month','fess':25000,'Batch':12},\n",
        "\n",
        "}\n",
        "print(courses['C++']['fess'])\n",
        "\n",
        "for k,v in courses.items():\n",
        "  print(k,v['fess'])\n",
        "\n",
        "\n",
        "\n"
      ],
      "cell_type": "code",
      "metadata": {
        "id": "ayzjUSsy-TsB",
        "colab": {
          "base_uri": "https://localhost:8080/"
        },
        "outputId": "10bc7dd8-ef1a-4314-9aca-717e2bb03b59"
      },
      "execution_count": 14,
      "outputs": [
        {
          "output_type": "stream",
          "name": "stdout",
          "text": [
            "18000\n",
            "Python 35000\n",
            "C 15000\n",
            "C++ 18000\n",
            "Java 30000\n",
            "C# 25000\n"
          ]
        }
      ]
    },
    {
      "cell_type": "code",
      "source": [
        "courses['C++']['fess']=30000\n",
        "print(courses)\n"
      ],
      "metadata": {
        "id": "VdoqZuCeCwGi"
      },
      "execution_count": null,
      "outputs": []
    },
    {
      "cell_type": "code",
      "source": [
        "import math\n",
        "help(math)\n",
        "\n",
        "\n"
      ],
      "metadata": {
        "id": "Br_gpFOoUniZ",
        "colab": {
          "base_uri": "https://localhost:8080/"
        },
        "outputId": "026e6aa5-7aa0-4f93-be85-983a6aac204b"
      },
      "execution_count": 8,
      "outputs": [
        {
          "output_type": "stream",
          "name": "stdout",
          "text": [
            "Help on built-in module math:\n",
            "\n",
            "NAME\n",
            "    math\n",
            "\n",
            "DESCRIPTION\n",
            "    This module provides access to the mathematical functions\n",
            "    defined by the C standard.\n",
            "\n",
            "FUNCTIONS\n",
            "    acos(x, /)\n",
            "        Return the arc cosine (measured in radians) of x.\n",
            "        \n",
            "        The result is between 0 and pi.\n",
            "    \n",
            "    acosh(x, /)\n",
            "        Return the inverse hyperbolic cosine of x.\n",
            "    \n",
            "    asin(x, /)\n",
            "        Return the arc sine (measured in radians) of x.\n",
            "        \n",
            "        The result is between -pi/2 and pi/2.\n",
            "    \n",
            "    asinh(x, /)\n",
            "        Return the inverse hyperbolic sine of x.\n",
            "    \n",
            "    atan(x, /)\n",
            "        Return the arc tangent (measured in radians) of x.\n",
            "        \n",
            "        The result is between -pi/2 and pi/2.\n",
            "    \n",
            "    atan2(y, x, /)\n",
            "        Return the arc tangent (measured in radians) of y/x.\n",
            "        \n",
            "        Unlike atan(y/x), the signs of both x and y are considered.\n",
            "    \n",
            "    atanh(x, /)\n",
            "        Return the inverse hyperbolic tangent of x.\n",
            "    \n",
            "    ceil(x, /)\n",
            "        Return the ceiling of x as an Integral.\n",
            "        \n",
            "        This is the smallest integer >= x.\n",
            "    \n",
            "    comb(n, k, /)\n",
            "        Number of ways to choose k items from n items without repetition and without order.\n",
            "        \n",
            "        Evaluates to n! / (k! * (n - k)!) when k <= n and evaluates\n",
            "        to zero when k > n.\n",
            "        \n",
            "        Also called the binomial coefficient because it is equivalent\n",
            "        to the coefficient of k-th term in polynomial expansion of the\n",
            "        expression (1 + x)**n.\n",
            "        \n",
            "        Raises TypeError if either of the arguments are not integers.\n",
            "        Raises ValueError if either of the arguments are negative.\n",
            "    \n",
            "    copysign(x, y, /)\n",
            "        Return a float with the magnitude (absolute value) of x but the sign of y.\n",
            "        \n",
            "        On platforms that support signed zeros, copysign(1.0, -0.0)\n",
            "        returns -1.0.\n",
            "    \n",
            "    cos(x, /)\n",
            "        Return the cosine of x (measured in radians).\n",
            "    \n",
            "    cosh(x, /)\n",
            "        Return the hyperbolic cosine of x.\n",
            "    \n",
            "    degrees(x, /)\n",
            "        Convert angle x from radians to degrees.\n",
            "    \n",
            "    dist(p, q, /)\n",
            "        Return the Euclidean distance between two points p and q.\n",
            "        \n",
            "        The points should be specified as sequences (or iterables) of\n",
            "        coordinates.  Both inputs must have the same dimension.\n",
            "        \n",
            "        Roughly equivalent to:\n",
            "            sqrt(sum((px - qx) ** 2.0 for px, qx in zip(p, q)))\n",
            "    \n",
            "    erf(x, /)\n",
            "        Error function at x.\n",
            "    \n",
            "    erfc(x, /)\n",
            "        Complementary error function at x.\n",
            "    \n",
            "    exp(x, /)\n",
            "        Return e raised to the power of x.\n",
            "    \n",
            "    expm1(x, /)\n",
            "        Return exp(x)-1.\n",
            "        \n",
            "        This function avoids the loss of precision involved in the direct evaluation of exp(x)-1 for small x.\n",
            "    \n",
            "    fabs(x, /)\n",
            "        Return the absolute value of the float x.\n",
            "    \n",
            "    factorial(x, /)\n",
            "        Find x!.\n",
            "        \n",
            "        Raise a ValueError if x is negative or non-integral.\n",
            "    \n",
            "    floor(x, /)\n",
            "        Return the floor of x as an Integral.\n",
            "        \n",
            "        This is the largest integer <= x.\n",
            "    \n",
            "    fmod(x, y, /)\n",
            "        Return fmod(x, y), according to platform C.\n",
            "        \n",
            "        x % y may differ.\n",
            "    \n",
            "    frexp(x, /)\n",
            "        Return the mantissa and exponent of x, as pair (m, e).\n",
            "        \n",
            "        m is a float and e is an int, such that x = m * 2.**e.\n",
            "        If x is 0, m and e are both 0.  Else 0.5 <= abs(m) < 1.0.\n",
            "    \n",
            "    fsum(seq, /)\n",
            "        Return an accurate floating point sum of values in the iterable seq.\n",
            "        \n",
            "        Assumes IEEE-754 floating point arithmetic.\n",
            "    \n",
            "    gamma(x, /)\n",
            "        Gamma function at x.\n",
            "    \n",
            "    gcd(*integers)\n",
            "        Greatest Common Divisor.\n",
            "    \n",
            "    hypot(...)\n",
            "        hypot(*coordinates) -> value\n",
            "        \n",
            "        Multidimensional Euclidean distance from the origin to a point.\n",
            "        \n",
            "        Roughly equivalent to:\n",
            "            sqrt(sum(x**2 for x in coordinates))\n",
            "        \n",
            "        For a two dimensional point (x, y), gives the hypotenuse\n",
            "        using the Pythagorean theorem:  sqrt(x*x + y*y).\n",
            "        \n",
            "        For example, the hypotenuse of a 3/4/5 right triangle is:\n",
            "        \n",
            "            >>> hypot(3.0, 4.0)\n",
            "            5.0\n",
            "    \n",
            "    isclose(a, b, *, rel_tol=1e-09, abs_tol=0.0)\n",
            "        Determine whether two floating point numbers are close in value.\n",
            "        \n",
            "          rel_tol\n",
            "            maximum difference for being considered \"close\", relative to the\n",
            "            magnitude of the input values\n",
            "          abs_tol\n",
            "            maximum difference for being considered \"close\", regardless of the\n",
            "            magnitude of the input values\n",
            "        \n",
            "        Return True if a is close in value to b, and False otherwise.\n",
            "        \n",
            "        For the values to be considered close, the difference between them\n",
            "        must be smaller than at least one of the tolerances.\n",
            "        \n",
            "        -inf, inf and NaN behave similarly to the IEEE 754 Standard.  That\n",
            "        is, NaN is not close to anything, even itself.  inf and -inf are\n",
            "        only close to themselves.\n",
            "    \n",
            "    isfinite(x, /)\n",
            "        Return True if x is neither an infinity nor a NaN, and False otherwise.\n",
            "    \n",
            "    isinf(x, /)\n",
            "        Return True if x is a positive or negative infinity, and False otherwise.\n",
            "    \n",
            "    isnan(x, /)\n",
            "        Return True if x is a NaN (not a number), and False otherwise.\n",
            "    \n",
            "    isqrt(n, /)\n",
            "        Return the integer part of the square root of the input.\n",
            "    \n",
            "    lcm(*integers)\n",
            "        Least Common Multiple.\n",
            "    \n",
            "    ldexp(x, i, /)\n",
            "        Return x * (2**i).\n",
            "        \n",
            "        This is essentially the inverse of frexp().\n",
            "    \n",
            "    lgamma(x, /)\n",
            "        Natural logarithm of absolute value of Gamma function at x.\n",
            "    \n",
            "    log(...)\n",
            "        log(x, [base=math.e])\n",
            "        Return the logarithm of x to the given base.\n",
            "        \n",
            "        If the base not specified, returns the natural logarithm (base e) of x.\n",
            "    \n",
            "    log10(x, /)\n",
            "        Return the base 10 logarithm of x.\n",
            "    \n",
            "    log1p(x, /)\n",
            "        Return the natural logarithm of 1+x (base e).\n",
            "        \n",
            "        The result is computed in a way which is accurate for x near zero.\n",
            "    \n",
            "    log2(x, /)\n",
            "        Return the base 2 logarithm of x.\n",
            "    \n",
            "    modf(x, /)\n",
            "        Return the fractional and integer parts of x.\n",
            "        \n",
            "        Both results carry the sign of x and are floats.\n",
            "    \n",
            "    nextafter(x, y, /)\n",
            "        Return the next floating-point value after x towards y.\n",
            "    \n",
            "    perm(n, k=None, /)\n",
            "        Number of ways to choose k items from n items without repetition and with order.\n",
            "        \n",
            "        Evaluates to n! / (n - k)! when k <= n and evaluates\n",
            "        to zero when k > n.\n",
            "        \n",
            "        If k is not specified or is None, then k defaults to n\n",
            "        and the function returns n!.\n",
            "        \n",
            "        Raises TypeError if either of the arguments are not integers.\n",
            "        Raises ValueError if either of the arguments are negative.\n",
            "    \n",
            "    pow(x, y, /)\n",
            "        Return x**y (x to the power of y).\n",
            "    \n",
            "    prod(iterable, /, *, start=1)\n",
            "        Calculate the product of all the elements in the input iterable.\n",
            "        \n",
            "        The default start value for the product is 1.\n",
            "        \n",
            "        When the iterable is empty, return the start value.  This function is\n",
            "        intended specifically for use with numeric values and may reject\n",
            "        non-numeric types.\n",
            "    \n",
            "    radians(x, /)\n",
            "        Convert angle x from degrees to radians.\n",
            "    \n",
            "    remainder(x, y, /)\n",
            "        Difference between x and the closest integer multiple of y.\n",
            "        \n",
            "        Return x - n*y where n*y is the closest integer multiple of y.\n",
            "        In the case where x is exactly halfway between two multiples of\n",
            "        y, the nearest even value of n is used. The result is always exact.\n",
            "    \n",
            "    sin(x, /)\n",
            "        Return the sine of x (measured in radians).\n",
            "    \n",
            "    sinh(x, /)\n",
            "        Return the hyperbolic sine of x.\n",
            "    \n",
            "    sqrt(x, /)\n",
            "        Return the square root of x.\n",
            "    \n",
            "    tan(x, /)\n",
            "        Return the tangent of x (measured in radians).\n",
            "    \n",
            "    tanh(x, /)\n",
            "        Return the hyperbolic tangent of x.\n",
            "    \n",
            "    trunc(x, /)\n",
            "        Truncates the Real x to the nearest Integral toward 0.\n",
            "        \n",
            "        Uses the __trunc__ magic method.\n",
            "    \n",
            "    ulp(x, /)\n",
            "        Return the value of the least significant bit of the float x.\n",
            "\n",
            "DATA\n",
            "    e = 2.718281828459045\n",
            "    inf = inf\n",
            "    nan = nan\n",
            "    pi = 3.141592653589793\n",
            "    tau = 6.283185307179586\n",
            "\n",
            "FILE\n",
            "    (built-in)\n",
            "\n",
            "\n"
          ]
        }
      ]
    },
    {
      "cell_type": "markdown",
      "source": [
        "## *Functions *"
      ],
      "metadata": {
        "id": "Hw2nNB0LUqiK"
      }
    },
    {
      "cell_type": "code",
      "source": [
        "def my_function():\n",
        "  print(\"Welcome to Youcel Institute\")\n",
        "my_function()\n"
      ],
      "metadata": {
        "id": "UJOCC-tyUzd-"
      },
      "execution_count": null,
      "outputs": []
    },
    {
      "cell_type": "code",
      "source": [
        "def myfunc(a, b, c):\n",
        "\n",
        "    \"\"\"\n",
        "    This function takes exactly two numerical arguments and returns their sum.\n",
        "    \"\"\"\n",
        "    return a + b+c\n",
        "\n",
        "print(myfunc(10,10,10))\n",
        "\n"
      ],
      "metadata": {
        "id": "BvfgCXWWr0Cu"
      },
      "execution_count": null,
      "outputs": []
    },
    {
      "cell_type": "code",
      "source": [
        "\n",
        "a=int(input(\"Enter First Number:\"))\n",
        "b=int(input(\"Enter Second Number:\"))\n",
        "c=int(input(\"Enter Third Number:\"))\n",
        "def myfunc(a, b, c):\n",
        "\n",
        "    return a+b+c\n",
        "\n",
        "print(myfunc(a,b,c))"
      ],
      "metadata": {
        "id": "8ExQje1hsYLu"
      },
      "execution_count": null,
      "outputs": []
    },
    {
      "cell_type": "markdown",
      "source": [
        "count Vowels"
      ],
      "metadata": {
        "id": "0xnxTpfZw73B"
      }
    },
    {
      "cell_type": "code",
      "source": [
        "def max_of_list(numbers):\n",
        "\n",
        "    if not numbers:\n",
        "        return None\n",
        "    return max(numbers)\n",
        "\n",
        "# Example usage:\n",
        "print(max_of_list([1, 2, 3, 4, 5]))\n",
        "print(max_of_list([-1, -2, -3]))\n",
        "print(max_of_list([43,45,43,56,78,90]))\n"
      ],
      "metadata": {
        "id": "kHr0KxmdunH1"
      },
      "execution_count": null,
      "outputs": []
    },
    {
      "cell_type": "code",
      "source": [
        "def count_vowels(s):\n",
        "\n",
        "    vowels = 'aeiouAEIOU'\n",
        "    count = sum(1 for char in s if char in vowels)\n",
        "    return count\n",
        "\n",
        "# Example usage:\n",
        "print(count_vowels(\"hello world\"))\n",
        "print(count_vowels(\"Dinash Maliya\"))\n",
        "print(count_vowels(\"Python\"))\n",
        "print(count_vowels(\"AEIOU\"))\n",
        "print(count_vowels(\"xyz\"))"
      ],
      "metadata": {
        "id": "xfYOSXxivPC-"
      },
      "execution_count": null,
      "outputs": []
    },
    {
      "cell_type": "code",
      "source": [
        "def is_prime(num):\n",
        "    if num <= 1:\n",
        "        return False\n",
        "    for i in range(2, int(num ** 0.5) + 1):\n",
        "        if num % i == 0:\n",
        "            return False\n",
        "    return True\n",
        "\n",
        "def count_primes(n): # Added function definition for count_primes\n",
        "    prime_count = 0\n",
        "    for i in range(2, n + 1):\n",
        "        if is_prime(i):\n",
        "            prime_count += 1\n",
        "\n",
        "    return prime_count\n",
        "\n",
        "# Example usage:\n",
        "print(count_primes(10))  # Output: 4 (primes are 2, 3, 5, 7)\n",
        "print(count_primes(20))  # Output: 8 (primes are 2, 3, 5, 7, 11, 13, 17, 19)\n",
        "print(count_primes(5))   # Output: 3 (primes are 2, 3, 5)\n",
        "print(count_primes(1))   # Output: 0 (no prime numbers)"
      ],
      "metadata": {
        "id": "C0n9lZBuxUB4"
      },
      "execution_count": null,
      "outputs": []
    },
    {
      "cell_type": "code",
      "source": [
        "nn=int(input(\"Enter Number:\"))\n",
        "count=0\n",
        "i=1\n",
        "while i<=nn:\n",
        "  if nn%i==0:\n",
        "     count=count+1\n",
        "  i=i+1\n",
        "if(count==2):\n",
        "  print(\"Prime Number\")\n",
        "else:\n",
        "  print(\"Not Prime Number\")\n",
        "\n"
      ],
      "metadata": {
        "id": "31BTFnzl77vJ"
      },
      "execution_count": null,
      "outputs": []
    },
    {
      "cell_type": "code",
      "source": [
        "year=int(input(\"Enter Year:\"))\n",
        "if year%4==0:\n",
        "  print(\"Leap Year\")\n",
        "else:\n",
        "  print(\"Not Leap Year\")\n"
      ],
      "metadata": {
        "id": "EKCo_r4o-0zx"
      },
      "execution_count": null,
      "outputs": []
    },
    {
      "cell_type": "markdown",
      "source": [
        "Square Root"
      ],
      "metadata": {
        "id": "gSQ9PEK7SZ-x"
      }
    },
    {
      "cell_type": "code",
      "source": [
        "num=int(input(\"Enter Number:\"))\n",
        "sq_root=num**0.5\n",
        "print(int(sq_root))"
      ],
      "metadata": {
        "id": "GRkQaF6_R2Kd"
      },
      "execution_count": null,
      "outputs": []
    },
    {
      "cell_type": "code",
      "source": [
        "# prompt: create rand module example  and create 10 program with each code block\n",
        "\n",
        "import random\n",
        "\n",
        "# 1. Generate a random integer between 1 and 100\n",
        "random_number = random.randint(1, 100)\n",
        "print(\"Random number between 1 and 100:\", random_number)\n",
        "\n",
        "# 2. Generate a random float between 0 and 1\n",
        "random_float = random.random()\n",
        "print(\"Random float between 0 and 1:\", random_float)"
      ],
      "metadata": {
        "id": "-gOReEC_Z0EJ"
      },
      "execution_count": null,
      "outputs": []
    },
    {
      "cell_type": "code",
      "source": [
        "#random shuffle, random union, random\n",
        "\n",
        "import random\n",
        "\n",
        "#Shuffle a list\n",
        "my_list = [1, 2, 3, 4, 5]\n",
        "random.shuffle(my_list)\n",
        "print(\"Shuffled list:\", my_list)\n",
        "\n",
        "#Choose a random element from a list\n",
        "random_element = random.choice(my_list)\n",
        "print(\"Random element from the list:\", random_element)\n",
        "\n",
        "#Generate a random sample from a list\n",
        "sample = random.sample(my_list, 3)  # Sample 3 elements\n",
        "print(\"Random sample from the list:\", sample)\n"
      ],
      "metadata": {
        "id": "L2cI8Vfyhhcn"
      },
      "execution_count": null,
      "outputs": []
    },
    {
      "cell_type": "code",
      "source": [
        "# 3. Choose a random element from a list\n",
        "fruits = [\"apple\", \"banana\", \"cherry\", \"orange\"]\n",
        "random_fruit = random.choice(fruits)\n",
        "print(\"Random fruit:\", random_fruit)"
      ],
      "metadata": {
        "id": "FbMRBxLNWOVi"
      },
      "execution_count": null,
      "outputs": []
    },
    {
      "cell_type": "code",
      "source": [
        "# 4. Shuffle a list randomly\n",
        "numbers = [1, 2, 3, 4, 5]\n",
        "random.shuffle(numbers)\n",
        "print(\"Shuffled numbers:\", numbers)"
      ],
      "metadata": {
        "id": "TCNpuEc6YFmg"
      },
      "execution_count": null,
      "outputs": []
    },
    {
      "cell_type": "code",
      "source": [
        "import random\n",
        "\n",
        "# Create a list of items to sample from\n",
        "my_list = [1, 2, 3, 4, 5, 6, 7, 8, 9, 10]\n",
        "\n",
        "# Sample 3 items from the list without replacement\n",
        "random_sample = random.sample(my_list, 4)\n",
        "\n",
        "# Print the random sample\n",
        "print(random_sample)\n"
      ],
      "metadata": {
        "id": "geIaaJQLYlo5"
      },
      "execution_count": null,
      "outputs": []
    },
    {
      "cell_type": "code",
      "source": [
        "# 5. Generate a random sample of 3 elements from a list\n",
        "colors = [\"red\", \"green\", \"blue\", \"yellow\", \"purple\"]\n",
        "random_sample = random.sample(colors, 3)\n",
        "print(\"Random sample of colors:\", random_sample)"
      ],
      "metadata": {
        "id": "P4aBvUuOWZG5"
      },
      "execution_count": null,
      "outputs": []
    },
    {
      "cell_type": "code",
      "source": [
        "# prompt: .join method example for string\n",
        "\n",
        "words = [\" Ali \", \"Taha \", \" Aslam \", \" Maaz \"]\n",
        "sentence = \",\".join(words)\n",
        "print(sentence)\n",
        "\n",
        "\n"
      ],
      "metadata": {
        "id": "A2FHLXCPZKpy"
      },
      "execution_count": null,
      "outputs": []
    },
    {
      "cell_type": "code",
      "source": [
        "vowels = [\"a\", \"e\", \"i\", \"o\", \"u\"]\n",
        "\n",
        "vowelsCSV = \",\".join(vowels)\n",
        "\n",
        "print(\"Vowels are = \", vowelsCSV)"
      ],
      "metadata": {
        "id": "wPSRYueCdyk9"
      },
      "execution_count": null,
      "outputs": []
    },
    {
      "cell_type": "code",
      "source": [
        "\n",
        "fruits = [\"apple\", \"banana\", \"cherry\", \"orange\", \"kiwi\", \"mango\", \"grape\"]\n",
        "\n",
        "# Choose 3 fruits randomly\n",
        "chosen_fruits = random.sample(fruits, 3)\n",
        "\n",
        "# Print the chosen fruits\n",
        "print(\"Chosen fruits:\", chosen_fruits)"
      ],
      "metadata": {
        "id": "IXJmTDJIbSTW"
      },
      "execution_count": null,
      "outputs": []
    },
    {
      "cell_type": "code",
      "source": [
        "# 6. Generate a random password of length 8 with letters and digits\n",
        "characters = \"abcdefghijklmnopqrstuvwxyz0123456789\"\n",
        "random_password = \"\".join(random.choice(characters) for i in range(8))\n",
        "print(\"Random password:\", random_password)"
      ],
      "metadata": {
        "id": "h0UCN65_WhCm"
      },
      "execution_count": null,
      "outputs": []
    },
    {
      "cell_type": "code",
      "source": [
        "# 7. Simulate rolling a dice (6 sides)\n",
        "dice_roll = random.randint(1, 6)\n",
        "print(\"Dice roll:\", dice_roll)"
      ],
      "metadata": {
        "id": "zYXhVv3MWnYV"
      },
      "execution_count": null,
      "outputs": []
    },
    {
      "cell_type": "code",
      "source": [
        "# 8. Generate a random number from a normal distribution\n",
        "random_normal = random.gauss(1, 12)  # Mean 0, standard deviation 1\n",
        "print(\"Random number from normal distribution:\", random_normal)"
      ],
      "metadata": {
        "id": "O1AVXTk-WpHa"
      },
      "execution_count": null,
      "outputs": []
    },
    {
      "cell_type": "code",
      "source": [
        "# 9. Randomly decide True or False with a given probability\n",
        "probability = 0.7\n",
        "random_boolean = random.random() < probability\n",
        "print(\"Random boolean (True with probability 0.7):\", random_boolean)"
      ],
      "metadata": {
        "id": "e6C3aiH9WtxF"
      },
      "execution_count": null,
      "outputs": []
    },
    {
      "cell_type": "code",
      "source": [
        "# 10. Generate a random date between two given dates\n",
        "import datetime\n",
        "start_date = datetime.date(2023, 1, 1)\n",
        "end_date = datetime.date(2023, 12, 31)\n",
        "random_days = random.randint(0, (end_date - start_date).days)\n",
        "random_date = start_date + datetime.timedelta(days=random_days)\n",
        "print(\"Random date between 2023-01-01 and 2023-12-31:\", random_date)"
      ],
      "metadata": {
        "id": "18SALLXVW8O6"
      },
      "execution_count": null,
      "outputs": []
    }
  ]
}