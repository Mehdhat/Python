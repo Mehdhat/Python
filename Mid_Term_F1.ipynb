{
  "nbformat": 4,
  "nbformat_minor": 0,
  "metadata": {
    "colab": {
      "provenance": []
    },
    "kernelspec": {
      "name": "python3",
      "display_name": "Python 3"
    },
    "language_info": {
      "name": "python"
    }
  },
  "cells": [
    {
      "cell_type": "markdown",
      "source": [
        "# **Debugging**"
      ],
      "metadata": {
        "id": "NMxb3asmaCU5"
      }
    },
    {
      "cell_type": "code",
      "source": [
        "#Syntax Errors: These occur when the code does not follow the correct syntax rules of Python.\n",
        "# Syntax Error\n",
        "#prin(\"Hello World\")  # Missing t in print"
      ],
      "metadata": {
        "id": "R-zOx5vMZJv0"
      },
      "execution_count": null,
      "outputs": []
    },
    {
      "cell_type": "code",
      "source": [
        "#Runtime Errors: These occur while the program is running, typically due to invalid operations or conditions.\n",
        "number = int(\"string\")\n",
        "# ValueError: invalid literal for int() with base 10: 'string'\n",
        "#x = 10 / 0  # Division by zero\n",
        "#ZeroDivisionError: division by zero"
      ],
      "metadata": {
        "id": "CeoZr_D7ZQRF"
      },
      "execution_count": null,
      "outputs": []
    },
    {
      "cell_type": "code",
      "source": [
        "#Semantic Errors: These occur when the code runs without crashing but produces incorrect results due to logical mistakes.\n",
        "def add_numbers(a, b):\n",
        "    return a - b  # Incorrect logic; should be 'a + b'\n",
        "\n",
        "result = add_numbers(5, 3)\n",
        "print(result)\n",
        "# Output: 2 (but intended to be 8)\n"
      ],
      "metadata": {
        "colab": {
          "base_uri": "https://localhost:8080/"
        },
        "id": "vn2xFdYBZiBc",
        "outputId": "76c177b5-a9e8-4f4c-8529-00ab076ce573"
      },
      "execution_count": null,
      "outputs": [
        {
          "output_type": "stream",
          "name": "stdout",
          "text": [
            "2\n"
          ]
        }
      ]
    },
    {
      "cell_type": "markdown",
      "source": [
        "\n",
        "**Locating and Resolving Errors**\n",
        "\n",
        "**Locating Errors:** Use debugging tools, error messages, and print statements to identify where the problem occurs in your code. Carefully read error messages and check line numbers.\n",
        "**Resolving Errors:** Correct the identified errors by fixing syntax mistakes, adjusting logic, or handling exceptions. Test the code after making changes to ensure the problem is resolved."
      ],
      "metadata": {
        "id": "vYPzBuyOan8p"
      }
    },
    {
      "cell_type": "code",
      "source": [
        "#User Interactions\n",
        "#Output/Print: Display information to the user or the console using the print() function.\n",
        "# Using constants and variables\n",
        "message = \"Hello, World!\"\n",
        "print(message)  # Output: Hello, World!\n"
      ],
      "metadata": {
        "colab": {
          "base_uri": "https://localhost:8080/"
        },
        "id": "W9B-iLwLZw2V",
        "outputId": "01513060-3995-4286-f5bc-2b4a89630b1d"
      },
      "execution_count": null,
      "outputs": [
        {
          "output_type": "stream",
          "name": "stdout",
          "text": [
            "Hello, World!\n"
          ]
        }
      ]
    },
    {
      "cell_type": "code",
      "source": [
        "#Input\n",
        "name = input(\"Enter your name: \")\n",
        "print(\"Hello, \" + name)  # Output: Hello, [user's input]"
      ],
      "metadata": {
        "id": "-U_P6MP6FOs9"
      },
      "execution_count": null,
      "outputs": []
    },
    {
      "cell_type": "code",
      "source": [
        "#Introduction to Strings\n",
        "#Input and Output: Strings are used to handle text. They can be manipulated and displayed using various functions.\n",
        "# Input example\n",
        "user_input = input(\"Enter a string: \")\n",
        "print(\"You entered: \" + user_input)\n"
      ],
      "metadata": {
        "colab": {
          "base_uri": "https://localhost:8080/",
          "height": 373
        },
        "id": "SyQbIih6bHAh",
        "outputId": "21b25842-9905-4c89-e859-5a28721365d3"
      },
      "execution_count": null,
      "outputs": [
        {
          "output_type": "error",
          "ename": "KeyboardInterrupt",
          "evalue": "Interrupted by user",
          "traceback": [
            "\u001b[0;31m---------------------------------------------------------------------------\u001b[0m",
            "\u001b[0;31mKeyboardInterrupt\u001b[0m                         Traceback (most recent call last)",
            "\u001b[0;32m<ipython-input-4-8282e841aa17>\u001b[0m in \u001b[0;36m<cell line: 4>\u001b[0;34m()\u001b[0m\n\u001b[1;32m      2\u001b[0m \u001b[0;31m#Input and Output: Strings are used to handle text. They can be manipulated and displayed using various functions.\u001b[0m\u001b[0;34m\u001b[0m\u001b[0;34m\u001b[0m\u001b[0m\n\u001b[1;32m      3\u001b[0m \u001b[0;31m# Input example\u001b[0m\u001b[0;34m\u001b[0m\u001b[0;34m\u001b[0m\u001b[0m\n\u001b[0;32m----> 4\u001b[0;31m \u001b[0muser_input\u001b[0m \u001b[0;34m=\u001b[0m \u001b[0minput\u001b[0m\u001b[0;34m(\u001b[0m\u001b[0;34m\"Enter a string: \"\u001b[0m\u001b[0;34m)\u001b[0m\u001b[0;34m\u001b[0m\u001b[0;34m\u001b[0m\u001b[0m\n\u001b[0m\u001b[1;32m      5\u001b[0m \u001b[0mprint\u001b[0m\u001b[0;34m(\u001b[0m\u001b[0;34m\"You entered: \"\u001b[0m \u001b[0;34m+\u001b[0m \u001b[0muser_input\u001b[0m\u001b[0;34m)\u001b[0m\u001b[0;34m\u001b[0m\u001b[0;34m\u001b[0m\u001b[0m\n",
            "\u001b[0;32m/usr/local/lib/python3.10/dist-packages/ipykernel/kernelbase.py\u001b[0m in \u001b[0;36mraw_input\u001b[0;34m(self, prompt)\u001b[0m\n\u001b[1;32m    849\u001b[0m                 \u001b[0;34m\"raw_input was called, but this frontend does not support input requests.\"\u001b[0m\u001b[0;34m\u001b[0m\u001b[0;34m\u001b[0m\u001b[0m\n\u001b[1;32m    850\u001b[0m             )\n\u001b[0;32m--> 851\u001b[0;31m         return self._input_request(str(prompt),\n\u001b[0m\u001b[1;32m    852\u001b[0m             \u001b[0mself\u001b[0m\u001b[0;34m.\u001b[0m\u001b[0m_parent_ident\u001b[0m\u001b[0;34m,\u001b[0m\u001b[0;34m\u001b[0m\u001b[0;34m\u001b[0m\u001b[0m\n\u001b[1;32m    853\u001b[0m             \u001b[0mself\u001b[0m\u001b[0;34m.\u001b[0m\u001b[0m_parent_header\u001b[0m\u001b[0;34m,\u001b[0m\u001b[0;34m\u001b[0m\u001b[0;34m\u001b[0m\u001b[0m\n",
            "\u001b[0;32m/usr/local/lib/python3.10/dist-packages/ipykernel/kernelbase.py\u001b[0m in \u001b[0;36m_input_request\u001b[0;34m(self, prompt, ident, parent, password)\u001b[0m\n\u001b[1;32m    893\u001b[0m             \u001b[0;32mexcept\u001b[0m \u001b[0mKeyboardInterrupt\u001b[0m\u001b[0;34m:\u001b[0m\u001b[0;34m\u001b[0m\u001b[0;34m\u001b[0m\u001b[0m\n\u001b[1;32m    894\u001b[0m                 \u001b[0;31m# re-raise KeyboardInterrupt, to truncate traceback\u001b[0m\u001b[0;34m\u001b[0m\u001b[0;34m\u001b[0m\u001b[0m\n\u001b[0;32m--> 895\u001b[0;31m                 \u001b[0;32mraise\u001b[0m \u001b[0mKeyboardInterrupt\u001b[0m\u001b[0;34m(\u001b[0m\u001b[0;34m\"Interrupted by user\"\u001b[0m\u001b[0;34m)\u001b[0m \u001b[0;32mfrom\u001b[0m \u001b[0;32mNone\u001b[0m\u001b[0;34m\u001b[0m\u001b[0;34m\u001b[0m\u001b[0m\n\u001b[0m\u001b[1;32m    896\u001b[0m             \u001b[0;32mexcept\u001b[0m \u001b[0mException\u001b[0m \u001b[0;32mas\u001b[0m \u001b[0me\u001b[0m\u001b[0;34m:\u001b[0m\u001b[0;34m\u001b[0m\u001b[0;34m\u001b[0m\u001b[0m\n\u001b[1;32m    897\u001b[0m                 \u001b[0mself\u001b[0m\u001b[0;34m.\u001b[0m\u001b[0mlog\u001b[0m\u001b[0;34m.\u001b[0m\u001b[0mwarning\u001b[0m\u001b[0;34m(\u001b[0m\u001b[0;34m\"Invalid Message:\"\u001b[0m\u001b[0;34m,\u001b[0m \u001b[0mexc_info\u001b[0m\u001b[0;34m=\u001b[0m\u001b[0;32mTrue\u001b[0m\u001b[0;34m)\u001b[0m\u001b[0;34m\u001b[0m\u001b[0;34m\u001b[0m\u001b[0m\n",
            "\u001b[0;31mKeyboardInterrupt\u001b[0m: Interrupted by user"
          ]
        }
      ]
    },
    {
      "cell_type": "code",
      "source": [
        "#Concatenation: Combine strings using the + operator to concatenate them.\n",
        "# Concatenation example\n",
        "first_name = \"John\"\n",
        "last_name = \"Doe\"\n",
        "full_name = first_name +  last_name\n",
        "print(full_name)  # Output: John Doe"
      ],
      "metadata": {
        "colab": {
          "base_uri": "https://localhost:8080/"
        },
        "id": "a0-C-s1pbTYU",
        "outputId": "8c8c0e45-6d13-42bd-b5b9-33e136e8a34c"
      },
      "execution_count": null,
      "outputs": [
        {
          "output_type": "stream",
          "name": "stdout",
          "text": [
            "JohnDoe\n"
          ]
        }
      ]
    },
    {
      "cell_type": "markdown",
      "source": [
        "# **Advanced Strings & Introduction to Functions**"
      ],
      "metadata": {
        "id": "umJA2iB9btih"
      }
    },
    {
      "cell_type": "code",
      "source": [
        "#String Formatting\n",
        "#String Formatting: Allows for embedding variables into strings using different methods.\n",
        "\n",
        "name = \"Alice\"\n",
        "age = 30\n",
        "# Using f-strings (Python 3.6+)\n",
        "formatted_string = f\"Name: {name}, Age: {age}\"\n",
        "print(formatted_string)  # Output: Name: Alice, Age: 30\n",
        "\n",
        "# Using the format() method\n",
        "formatted_string = \"Name: {}, Age: {}\".format(name, age)\n",
        "print(formatted_string)  # Output: Name: Alice, Age: 30"
      ],
      "metadata": {
        "colab": {
          "base_uri": "https://localhost:8080/"
        },
        "id": "z6d_8Dkzbv3A",
        "outputId": "4f0578f0-f2be-4c11-b7f6-04e0720a017d"
      },
      "execution_count": null,
      "outputs": [
        {
          "output_type": "stream",
          "name": "stdout",
          "text": [
            "Name: Alice, Age: 30\n",
            "Name: Alice, Age: 30\n"
          ]
        }
      ]
    },
    {
      "cell_type": "code",
      "source": [
        "#String Mutation\n",
        "#String Mutation: Strings in Python are immutable, meaning you cannot change them in place. Instead, you create new strings with the desired modifications.\n",
        "# Example of string mutation\n",
        "original = \"hello\"\n",
        "# To modify, create a new string\n",
        "modified = original.replace(\"e\", \"a\")\n",
        "print(modified)  # Output: hallo"
      ],
      "metadata": {
        "colab": {
          "base_uri": "https://localhost:8080/"
        },
        "id": "F2LHAm6ecI7Y",
        "outputId": "c54b551c-d300-4366-fb85-18a8db64bda8"
      },
      "execution_count": null,
      "outputs": [
        {
          "output_type": "stream",
          "name": "stdout",
          "text": [
            "hallo\n"
          ]
        }
      ]
    },
    {
      "cell_type": "code",
      "source": [
        "#String Methods\n",
        "#Upper: Converts all characters to uppercase.\n",
        "\n",
        "text = \"hello\"\n",
        "print(text.upper())  # Output: HELLO"
      ],
      "metadata": {
        "colab": {
          "base_uri": "https://localhost:8080/"
        },
        "id": "Js11covGcWbY",
        "outputId": "fbfbec85-e184-4e1e-d23c-34d6cd5b9d4d"
      },
      "execution_count": null,
      "outputs": [
        {
          "output_type": "stream",
          "name": "stdout",
          "text": [
            "HELLO\n"
          ]
        }
      ]
    },
    {
      "cell_type": "code",
      "source": [
        "#Lower: Converts all characters to lowercase.\n",
        "\n",
        "text = \"HELLO\"\n",
        "print(text.lower())  # Output: hello"
      ],
      "metadata": {
        "colab": {
          "base_uri": "https://localhost:8080/"
        },
        "id": "B_zrhahFccj0",
        "outputId": "0d4fd590-ae61-4c76-ba2c-2a3d4977cb85"
      },
      "execution_count": null,
      "outputs": [
        {
          "output_type": "stream",
          "name": "stdout",
          "text": [
            "hello\n"
          ]
        }
      ]
    },
    {
      "cell_type": "code",
      "source": [
        "#Count: Counts occurrences of a substring.\n",
        "\n",
        "text = \"hello hello\"\n",
        "print(text.count(\"hello\"))  # Output: 2"
      ],
      "metadata": {
        "id": "QuswB_YdciFf",
        "colab": {
          "base_uri": "https://localhost:8080/"
        },
        "outputId": "d7978a66-57a6-4716-90f8-d9b582c4e244"
      },
      "execution_count": null,
      "outputs": [
        {
          "output_type": "stream",
          "name": "stdout",
          "text": [
            "2\n"
          ]
        }
      ]
    },
    {
      "cell_type": "code",
      "source": [
        "#Strip: Removes leading and trailing whitespace.\n",
        "\n",
        "text = \"                  hello \"+\"World\"\n",
        "print(text.strip())  # Output: hello\n",
        "print(text)"
      ],
      "metadata": {
        "colab": {
          "base_uri": "https://localhost:8080/"
        },
        "id": "dD26QcCocnmX",
        "outputId": "c42d18ca-d41a-4914-9705-8154d10101dd"
      },
      "execution_count": null,
      "outputs": [
        {
          "output_type": "stream",
          "name": "stdout",
          "text": [
            "hello World\n",
            "                  hello World\n"
          ]
        }
      ]
    },
    {
      "cell_type": "code",
      "source": [
        "#Replace: Replaces occurrences of a substring with another substring.\n",
        "\n",
        "text = \"hello world\"\n",
        "print(text.replace(\"world\", \"there\"))  # Output: hello there"
      ],
      "metadata": {
        "colab": {
          "base_uri": "https://localhost:8080/"
        },
        "id": "qIsWSbWsdHcH",
        "outputId": "13e48a37-17be-4c76-bb1c-84f225bb522d"
      },
      "execution_count": null,
      "outputs": [
        {
          "output_type": "stream",
          "name": "stdout",
          "text": [
            "hello there\n"
          ]
        }
      ]
    },
    {
      "cell_type": "code",
      "source": [
        "#Join: Joins elements of an iterable with a specified separator.\n",
        "\n",
        "\n",
        "words = [\"hello\", \"world\"]\n",
        "print(\"jkjk \".join(words))  # Output: hello world"
      ],
      "metadata": {
        "colab": {
          "base_uri": "https://localhost:8080/"
        },
        "id": "j-vThrXRdSXi",
        "outputId": "8a0749ca-dc92-4d48-808c-86d4546464dc"
      },
      "execution_count": null,
      "outputs": [
        {
          "output_type": "stream",
          "name": "stdout",
          "text": [
            "hellojkjk world\n"
          ]
        }
      ]
    },
    {
      "cell_type": "code",
      "source": [
        "#Split: Splits a string into a list of substrings based on a delimiter.\n",
        "\n",
        "text = \"hello world\"\n",
        "print(text.split())  # Output: ['hello', 'world']"
      ],
      "metadata": {
        "colab": {
          "base_uri": "https://localhost:8080/"
        },
        "id": "IxX1orLidY0u",
        "outputId": "aa5638f0-6e09-41ef-f263-4e1c150247ca"
      },
      "execution_count": null,
      "outputs": [
        {
          "output_type": "stream",
          "name": "stdout",
          "text": [
            "['hello', 'world']\n"
          ]
        }
      ]
    },
    {
      "cell_type": "code",
      "source": [
        "#Substring: Extracts a portion of the string.\n",
        "\n",
        "text = \"hello world\"\n",
        "print(text[0:5])  # Output: hello"
      ],
      "metadata": {
        "colab": {
          "base_uri": "https://localhost:8080/"
        },
        "id": "8gC2cyZfdiqi",
        "outputId": "e2e188cb-3e19-40f1-f60f-96538c46e660"
      },
      "execution_count": null,
      "outputs": [
        {
          "output_type": "stream",
          "name": "stdout",
          "text": [
            "hello\n"
          ]
        }
      ]
    },
    {
      "cell_type": "code",
      "source": [
        "#Index: Finds the position of the first occurrence of a substring.\n",
        "text = \"hello world\"\n",
        "print(text.index(\"world\"))  # Output: 6"
      ],
      "metadata": {
        "colab": {
          "base_uri": "https://localhost:8080/"
        },
        "id": "CJoJL8ONdm5a",
        "outputId": "d48cc87b-dc96-4878-9d44-b0bcecfaea89"
      },
      "execution_count": null,
      "outputs": [
        {
          "output_type": "stream",
          "name": "stdout",
          "text": [
            "6\n"
          ]
        }
      ]
    },
    {
      "cell_type": "code",
      "source": [
        "#Negative Index: Accesses characters from the end of the string.\n",
        "\n",
        "text = \"hello\"\n",
        "print(text[-1])  # Output: o"
      ],
      "metadata": {
        "id": "QHcoCHuLdwjv",
        "colab": {
          "base_uri": "https://localhost:8080/"
        },
        "outputId": "583155f3-94e6-4fb8-f927-ef9c6d694161"
      },
      "execution_count": null,
      "outputs": [
        {
          "output_type": "stream",
          "name": "stdout",
          "text": [
            "o\n"
          ]
        }
      ]
    },
    {
      "cell_type": "markdown",
      "source": [
        "# **Functions**"
      ],
      "metadata": {
        "id": "BFiLLc5_d5iY"
      }
    },
    {
      "cell_type": "code",
      "source": [
        "#Syntax: Functions are defined using the def keyword, followed by the function name and parentheses.\n",
        "\n",
        "\n",
        "def greet(name):\n",
        "    print(f\"Hello, {name}!\")\n",
        "\n",
        "#Calling Methods: Functions are called by using their name followed by parentheses.\n",
        "greet(\"Alice\")  # Output: Hello, Alice!\n",
        "\n",
        "#Arguments: Values passed to functions are called arguments.\n",
        "#Return Values: Functions can return values using the return keyword.\n",
        "def add(a, b):\n",
        "    return a + b\n",
        "\n",
        "result = add(5, 3)\n",
        "print(result)  # Output: 8\n",
        "\n",
        "#Return: Functions can return values using the return keyword.\n",
        "\n",
        "\n",
        "def square(x):\n",
        "    return x * x\n",
        "\n",
        "result = square(4)\n",
        "print(result)  # Output: 16"
      ],
      "metadata": {
        "colab": {
          "base_uri": "https://localhost:8080/"
        },
        "id": "seNiO46Qd47W",
        "outputId": "cc8b4647-6298-4079-85a6-51c5d7fd8392"
      },
      "execution_count": null,
      "outputs": [
        {
          "output_type": "stream",
          "name": "stdout",
          "text": [
            "Hello, Alice!\n",
            "8\n",
            "16\n"
          ]
        }
      ]
    },
    {
      "cell_type": "markdown",
      "source": [
        "## **List Data Type & Methods**"
      ],
      "metadata": {
        "id": "PaxqfI1_fV19"
      }
    },
    {
      "cell_type": "code",
      "source": [
        "#List Methods\n",
        "#Append: Adds an element to the end of the list.\n",
        "numbers = [1, 2, 3]\n",
        "numbers.append(4)\n",
        "print(numbers)  # Output: [1, 2, 3, 4]\n",
        "\n",
        "\n",
        "#Pop: Removes and returns an element at a specified index (default is the last element).\n",
        "numbers = [1, 2, 3]\n",
        "last_element = numbers.pop()\n",
        "print(last_element)  # Output: 3\n",
        "print(numbers)  # Output: [1, 2]\n",
        "\n",
        "#Prepend: Adds an element to the beginning of the list. (Python lists don't have a prepend method, but you can use insert.)\n",
        "\n",
        "numbers = [2, 3, 4]\n",
        "numbers.insert(0, 1)\n",
        "print(numbers)  # Output: [1, 2, 3, 4]\n",
        "\n",
        "#Sort: Sorts the elements of the list in ascending order. (The sort() method sorts the list in place, and sorted() returns a new sorted list.)\n",
        "numbers = [4, 2, 3, 1]\n",
        "numbers.sort()\n",
        "print(numbers)  # Output: [1, 2, 3, 4]\n",
        "\n",
        "\n",
        "#Count: Counts the occurrences of a specific element in the list.\n",
        "numbers = [1, 2, 2, 3, 2]\n",
        "print(numbers.count(2))  # Output: 3\n",
        "\n",
        "#Index: Returns the index of the first occurrence of a specified element. Supports positive and negative indices.\n",
        "numbers = [1, 2, 3, 2]\n",
        "print(numbers.index(2))  # Output: 1\n",
        "print(numbers.index(2, 2))  # Output: 3\n",
        "\n",
        "#Insert: Inserts an element at a specified index.\n",
        "numbers = [1, 2, 3]\n",
        "numbers.insert(1, 1.5)\n",
        "print(numbers)  # Output: [1, 1.5, 2, 3]\n",
        "\n",
        "#Remove: Removes the first occurrence of a specified element.\n",
        "\n",
        "numbers = [1, 2, 2, 3]\n",
        "numbers.remove(2)\n",
        "print(numbers)  # Output: [1, 2, 3]"
      ],
      "metadata": {
        "colab": {
          "base_uri": "https://localhost:8080/"
        },
        "id": "HXt6WA6zfZSO",
        "outputId": "12a5c2d4-8dde-42a9-f53e-cf1ad5636ed4"
      },
      "execution_count": null,
      "outputs": [
        {
          "output_type": "stream",
          "name": "stdout",
          "text": [
            "[1, 2, 3, 4]\n",
            "3\n",
            "[1, 2]\n",
            "[1, 2, 3, 4]\n",
            "[1, 2, 3, 4]\n",
            "3\n",
            "1\n",
            "3\n",
            "[1, 1.5, 2, 3]\n",
            "[1, 2, 3]\n"
          ]
        }
      ]
    },
    {
      "cell_type": "code",
      "source": [
        "#List Comprehension: A concise way to create lists using an expression and an optional for clause.\n",
        "\n",
        "# Create a list of squares\n",
        "squares = [x * x for x in range(5)]\n",
        "print(squares)  # Output: [0, 1, 4, 9, 16]\n",
        "\n",
        "# Create a list of even numbers\n",
        "evens = [x for x in range(10) if x % 2 == 0]\n",
        "print(evens)  # Output: [0, 2, 4, 6, 8]"
      ],
      "metadata": {
        "colab": {
          "base_uri": "https://localhost:8080/"
        },
        "id": "HoVFKNa0gpKq",
        "outputId": "ee86c1b5-032c-4cfc-fed7-c83dd40ef6f4"
      },
      "execution_count": null,
      "outputs": [
        {
          "output_type": "stream",
          "name": "stdout",
          "text": [
            "[0, 1, 4, 9, 16]\n",
            "[0, 2, 4, 6, 8]\n"
          ]
        }
      ]
    },
    {
      "cell_type": "code",
      "source": [
        "#List Mutation: Lists in Python are mutable, meaning you can change their contents after they are created.\n",
        "\n",
        "fruits = [\"apple\", \"banana\", \"cherry\"]\n",
        "fruits[1] = \"blueberry\"  # Modify an element\n",
        "print(fruits)  # Output: ['apple', 'blueberry', 'cherry']\n",
        "\n",
        "fruits.append(\"NEW Fruit\")  # Add an element\n",
        "print(fruits)  # Output: ['apple', 'blueberry', 'cherry', 'date']\n",
        "\n",
        "fruits.pop(0)  # Remove an element\n",
        "print(fruits)  # Output: ['blueberry', 'cherry', 'date']"
      ],
      "metadata": {
        "colab": {
          "base_uri": "https://localhost:8080/"
        },
        "id": "owmvhYfvg1aW",
        "outputId": "3a1ae104-5e3c-452b-83ed-5e62333bb1e6"
      },
      "execution_count": null,
      "outputs": [
        {
          "output_type": "stream",
          "name": "stdout",
          "text": [
            "['apple', 'blueberry', 'cherry']\n",
            "['apple', 'blueberry', 'cherry', 'NEW Fruit']\n",
            "['blueberry', 'cherry', 'NEW Fruit']\n"
          ]
        }
      ]
    },
    {
      "cell_type": "markdown",
      "source": [
        "# **Dictionary Data Type & Methods**"
      ],
      "metadata": {
        "id": "eEkaI163mgrw"
      }
    },
    {
      "cell_type": "code",
      "source": [
        "#Dictionary Methods\n",
        "#Keys: Returns a view object of the dictionary's keys.\n",
        "\n",
        "my_dict = {\"name\": \"Alice\", \"age\": 30}\n",
        "print(my_dict.keys())  # Output: dict_keys(['name', 'age'])"
      ],
      "metadata": {
        "colab": {
          "base_uri": "https://localhost:8080/"
        },
        "id": "Tl_dcYdMmfYE",
        "outputId": "df33ffc5-8d83-428e-d2cb-2aced1ffc520"
      },
      "execution_count": null,
      "outputs": [
        {
          "output_type": "stream",
          "name": "stdout",
          "text": [
            "dict_keys(['name', 'age'])\n"
          ]
        }
      ]
    },
    {
      "cell_type": "code",
      "source": [
        "#Values: Returns a view object of the dictionary's values.\n",
        "my_dict = {\"name\": \"Alice\", \"age\": 30}\n",
        "print(my_dict.values())  # Output: dict_values(['Alice', 30])\n",
        "\n",
        "#Items: Returns a view object of the dictionary's key-value pairs.\n",
        "my_dict = {\"name\": \"Alice\", \"age\": 30}\n",
        "print(my_dict.items())  # Output: dict_items([('name', 'Alice'), ('age', 30)])\n",
        "\n",
        "#Get: Returns the value for a specified key. If the key is not found, it returns None or a specified default value.\n",
        "my_dict = {\"name\": \"Alice\", \"age\": 30}\n",
        "print(my_dict.get(\"name\"))  # Output: Alice\n",
        "print(my_dict.get(\"address\", \"Not Found\"))  # Output: Not Found\n",
        "\n",
        "#Merging: Combine two dictionaries using the update() method or dictionary unpacking (Python 3.9+).\n",
        "dict1 = {\"name\": \"Alice\"}\n",
        "dict2 = {\"age\": 30}\n",
        "dict1.update(dict2)  # Merge dict2 into dict1\n",
        "print(dict1)  # Output: {'name': 'Alice', 'age': 30}\n",
        "\n",
        "# Dictionary unpacking (Python 3.9+)\n",
        "dict3 = {**dict1, **dict2}\n",
        "print(dict3)  # Output: {'name': 'Alice', 'age': 30}\n",
        "\n",
        "\n",
        "#Pop: Removes a key-value pair by key and returns the value.\n",
        "my_dict = {\"name\": \"Alice\", \"age\": 30}\n",
        "value = my_dict.pop(\"age\")\n",
        "print(value)  # Output: 30\n",
        "print(my_dict)  # Output: {'name': 'Alice'}\n",
        "\n",
        "\n",
        "#Clear: Removes all key-value pairs from the dictionary.\n",
        "my_dict = {\"name\": \"Alice\", \"age\": 30}\n",
        "my_dict.clear()\n",
        "print(my_dict)  # Output: {}\n",
        "\n",
        "\n",
        "\n",
        "#Copy: Creates a shallow copy of the dictionary.\n",
        "my_dict = {\"name\": \"Alice\", \"age\": 30}\n",
        "new_dict = my_dict.copy()\n",
        "print(new_dict)  # Output: {'name': 'Alice', 'age': 30}\n"
      ],
      "metadata": {
        "id": "BlkveGyYndSI"
      },
      "execution_count": null,
      "outputs": []
    },
    {
      "cell_type": "code",
      "source": [
        "#Dictionary Comprehension\n",
        "#Dictionary Comprehension: A concise way to create dictionaries using an expression and an optional for clause.\n",
        "\n",
        "# Create a dictionary with numbers and their squares\n",
        "squares = {x: x * x for x in range(5)}\n",
        "print(squares)  # Output: {0: 0, 1: 1, 2: 4, 3: 9, 4: 16}\n",
        "\n",
        "# Create a dictionary with only even numbers\n",
        "even_squares = {x: x * x for x in range(10) if x % 2 == 0}\n",
        "print(even_squares)  # Output: {0: 0, 2: 4, 4: 16, 6: 36, 8: 64}\n"
      ],
      "metadata": {
        "colab": {
          "base_uri": "https://localhost:8080/"
        },
        "id": "r22dcwR7n7go",
        "outputId": "cdebdd38-f4e6-4f9d-f3a4-e224bdd8ac8d"
      },
      "execution_count": null,
      "outputs": [
        {
          "output_type": "stream",
          "name": "stdout",
          "text": [
            "{0: 0, 1: 1, 2: 4, 3: 9, 4: 16}\n",
            "{0: 0, 2: 4, 4: 16, 6: 36, 8: 64}\n"
          ]
        }
      ]
    },
    {
      "cell_type": "code",
      "source": [
        "#Dictionary Mutation\n",
        "#Dictionary Mutation: Dictionaries in Python are mutable, allowing changes to be made to existing key-value pairs.\n",
        "\n",
        "my_dict = {\"name\": \"Alice\", \"age\": 30}\n",
        "my_dict[\"age\"] = 31  # Modify an existing key\n",
        "my_dict[\"address\"] = \"123 Main St\"  # Add a new key-value pair\n",
        "print(my_dict)  # Output: {'name': 'Alice', 'age': 31, 'address': '123 Main St'}\n",
        "\n",
        "del my_dict[\"address\"]  # Remove a key-value pair\n",
        "print(my_dict)  # Output: {'name': 'Alice', 'age': 31}"
      ],
      "metadata": {
        "colab": {
          "base_uri": "https://localhost:8080/"
        },
        "id": "6jka6Ugsn-RX",
        "outputId": "d3905184-dd27-457d-8a29-c02b15e15a62"
      },
      "execution_count": null,
      "outputs": [
        {
          "output_type": "stream",
          "name": "stdout",
          "text": [
            "{'name': 'Alice', 'age': 31, 'address': '123 Main St'}\n",
            "{'name': 'Alice', 'age': 31}\n"
          ]
        }
      ]
    }
  ]
}