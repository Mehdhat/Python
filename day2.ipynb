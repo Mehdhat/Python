{
  "nbformat": 4,
  "nbformat_minor": 0,
  "metadata": {
    "colab": {
      "provenance": []
    },
    "kernelspec": {
      "name": "python3",
      "display_name": "Python 3"
    },
    "language_info": {
      "name": "python"
    }
  },
  "cells": [
    {
      "cell_type": "markdown",
      "source": [
        "### **List of Python**"
      ],
      "metadata": {
        "id": "NRQIHcu0vVNK"
      }
    },
    {
      "cell_type": "code",
      "source": [
        "my_list = [1, 2, 3, \"apple\", \"banana\"]\n",
        "print(my_list)"
      ],
      "metadata": {
        "colab": {
          "base_uri": "https://localhost:8080/"
        },
        "id": "Y59ABVsMSCz_",
        "outputId": "0df66bf2-398e-4960-ef6f-7dc5e0b3c0ad"
      },
      "execution_count": 58,
      "outputs": [
        {
          "output_type": "stream",
          "name": "stdout",
          "text": [
            "[1, 2, 3, 'apple', 'banana']\n"
          ]
        }
      ]
    },
    {
      "cell_type": "code",
      "source": [
        "my_list = [3,23,45,\"Zarar\",\"Ali\"]\n",
        "\n",
        "for a in my_list:\n",
        "  print(a)"
      ],
      "metadata": {
        "colab": {
          "base_uri": "https://localhost:8080/"
        },
        "id": "0pJgKzkgMDVM",
        "outputId": "ceb7759f-309c-4f32-ff1c-155b067bdbc7"
      },
      "execution_count": 5,
      "outputs": [
        {
          "output_type": "stream",
          "name": "stdout",
          "text": [
            "3\n",
            "23\n",
            "45\n",
            "Zarar\n",
            "Ali\n"
          ]
        }
      ]
    },
    {
      "cell_type": "markdown",
      "source": [
        "**for Loop in list**"
      ],
      "metadata": {
        "id": "hquhIc0Rvj1N"
      }
    },
    {
      "cell_type": "code",
      "source": [
        "for i in my_list:\n",
        "  print(i)"
      ],
      "metadata": {
        "colab": {
          "base_uri": "https://localhost:8080/"
        },
        "id": "mChuNsdRTL1g",
        "outputId": "49601255-6564-4460-c971-5c907e9225f4"
      },
      "execution_count": 59,
      "outputs": [
        {
          "output_type": "stream",
          "name": "stdout",
          "text": [
            "1\n",
            "2\n",
            "3\n",
            "apple\n",
            "banana\n"
          ]
        }
      ]
    },
    {
      "cell_type": "markdown",
      "source": [
        "# **len function**"
      ],
      "metadata": {
        "id": "kDcU3bMyvqRC"
      }
    },
    {
      "cell_type": "code",
      "source": [
        "len1=len(my_list)\n",
        "print(len1)"
      ],
      "metadata": {
        "colab": {
          "base_uri": "https://localhost:8080/"
        },
        "id": "LbpiSA8vTW7e",
        "outputId": "7c58f9f3-4c12-4fca-fe0d-b26a77f96f39"
      },
      "execution_count": 7,
      "outputs": [
        {
          "output_type": "stream",
          "name": "stdout",
          "text": [
            "5\n"
          ]
        }
      ]
    },
    {
      "cell_type": "markdown",
      "source": [
        "**append list**"
      ],
      "metadata": {
        "id": "0ft6EUNPvxo4"
      }
    },
    {
      "cell_type": "code",
      "source": [
        "# prompt: append in list\n",
        "new=[\"apple\",\"banana\",\"orange\"]\n",
        "\n",
        "\n",
        "\n",
        "my_list.append(90) # append to the end of the list\n",
        "print(my_list)\n",
        "my_list.extend(new) # append multiple items to the end of the list\n",
        "print(my_list)\n",
        "\n"
      ],
      "metadata": {
        "colab": {
          "base_uri": "https://localhost:8080/"
        },
        "id": "Hrs1QTelf1q8",
        "outputId": "f15f08d0-e4a6-40d4-d96f-7294346d299d"
      },
      "execution_count": 14,
      "outputs": [
        {
          "output_type": "stream",
          "name": "stdout",
          "text": [
            "[3, 23, 45, 'Zarar', 'Ali', 'orange', 'Junaid', 90, 90, 100, 110, 90, 100, 110, 90, 100, 110, 90]\n",
            "[3, 23, 45, 'Zarar', 'Ali', 'orange', 'Junaid', 90, 90, 100, 110, 90, 100, 110, 90, 100, 110, 90, 'apple', 'banana', 'orange']\n"
          ]
        }
      ]
    },
    {
      "cell_type": "markdown",
      "source": [
        "# **extended list**"
      ],
      "metadata": {
        "id": "JA24rGK9v4Ax"
      }
    },
    {
      "cell_type": "code",
      "source": [
        "\n",
        "\n",
        "# extend the list by appending all the items from the iterable\n",
        "my_list.extend([\"grape\", \"mango\"])\n",
        "print(my_list)\n",
        "\n",
        "list2 = [1, 2, 3]\n",
        "my_list.extend(list2)\n",
        "print(my_list)\n",
        "\n",
        "\n",
        "\n",
        "\n",
        "# extend the list by appending all the items from the iterable\n",
        "my_list.extend([\"grape\", \"mango\"])\n",
        "print(my_list)\n"
      ],
      "metadata": {
        "colab": {
          "base_uri": "https://localhost:8080/"
        },
        "id": "8KSqvczPf_fG",
        "outputId": "54193e05-b7cb-417b-e776-bf4907f87ca0"
      },
      "execution_count": 77,
      "outputs": [
        {
          "output_type": "stream",
          "name": "stdout",
          "text": [
            "[1, 2, 3, 'apple', 'banana', 'orange', 'orange', 'orange', 'grape', 'mango', 'grape', 'mango', 'grape', 'mango', 'grape', 'mango', 'grape', 'mango']\n",
            "[1, 2, 3, 'apple', 'banana', 'orange', 'orange', 'orange', 'grape', 'mango', 'grape', 'mango', 'grape', 'mango', 'grape', 'mango', 'grape', 'mango', 1, 2, 3]\n",
            "[1, 2, 3, 'apple', 'banana', 'orange', 'orange', 'orange', 'grape', 'mango', 'grape', 'mango', 'grape', 'mango', 'grape', 'mango', 'grape', 'mango', 1, 2, 3, 'grape', 'mango']\n"
          ]
        }
      ]
    },
    {
      "cell_type": "markdown",
      "source": [
        "# **Insert**"
      ],
      "metadata": {
        "id": "GR5Ktl7Kv-nf"
      }
    },
    {
      "cell_type": "code",
      "source": [],
      "metadata": {
        "id": "nm4PgmKSOUQs"
      },
      "execution_count": null,
      "outputs": []
    },
    {
      "cell_type": "code",
      "source": [
        "my_list.insert(10, \"kiwi\")\n",
        "print(my_list)"
      ],
      "metadata": {
        "colab": {
          "base_uri": "https://localhost:8080/"
        },
        "id": "1cLxrQOBhdWs",
        "outputId": "b6f1b9db-76fd-4578-b563-dc9a2f0c3631"
      },
      "execution_count": 16,
      "outputs": [
        {
          "output_type": "stream",
          "name": "stdout",
          "text": [
            "[3, 23, 'kiwi', 45, 'Zarar', 'Ali', 'orange', 'Junaid', 90, 90, 'kiwi', 100, 110, 90, 100, 110, 90, 100, 110, 90, 'apple', 'banana', 'orange']\n"
          ]
        }
      ]
    },
    {
      "cell_type": "markdown",
      "source": [
        "# **remove list**"
      ],
      "metadata": {
        "id": "j9a-NZW9wDqH"
      }
    },
    {
      "cell_type": "code",
      "source": [
        "my_list.remove(\"orange\")\n",
        "print(my_list)"
      ],
      "metadata": {
        "colab": {
          "base_uri": "https://localhost:8080/"
        },
        "id": "7x2DySPihioT",
        "outputId": "ab4fd6e0-9d22-4f25-8910-7e85833dc10c"
      },
      "execution_count": 80,
      "outputs": [
        {
          "output_type": "stream",
          "name": "stdout",
          "text": [
            "[1, 2, 'kiwi', 3, 'banana', 'orange', 'orange', 'grape', 'mango', 'grape', 'mango', 'grape', 'mango', 'grape', 'mango', 'grape', 'mango', 1, 2, 3, 'grape', 'mango']\n"
          ]
        }
      ]
    },
    {
      "cell_type": "markdown",
      "source": [
        "# **pop function**"
      ],
      "metadata": {
        "id": "eBGJhS7QwJdM"
      }
    },
    {
      "cell_type": "code",
      "source": [
        "my_list.pop(4)\n",
        "print(my_list)"
      ],
      "metadata": {
        "colab": {
          "base_uri": "https://localhost:8080/"
        },
        "id": "qsj2c_05htQS",
        "outputId": "b26de6c1-a3d5-4139-815a-f3d75631d8ee"
      },
      "execution_count": 17,
      "outputs": [
        {
          "output_type": "stream",
          "name": "stdout",
          "text": [
            "[3, 23, 'kiwi', 45, 'Ali', 'orange', 'Junaid', 90, 90, 'kiwi', 100, 110, 90, 100, 110, 90, 100, 110, 90, 'apple', 'banana', 'orange']\n"
          ]
        }
      ]
    },
    {
      "cell_type": "markdown",
      "source": [
        "# ** Dictionary**"
      ],
      "metadata": {
        "id": "PKN2ro4uwTb_"
      }
    },
    {
      "cell_type": "code",
      "source": [
        "# prompt: Dictionary program in pyhton\n",
        "\n",
        "# Creating a dictionary\n",
        "my_dict = {\n",
        "  \"name\": \"John Doe\",\n",
        "  \"age\": 30,\n",
        "  \"city\": \"New York\"\n",
        "}\n",
        "print(my_dict)\n",
        "\n",
        "# Accessing values\n",
        "print(my_dict[\"name\"])  # Output: John Doe\n",
        "print(my_dict.get(\"age\"))  # Output: 30\n",
        "\n",
        "# Adding a new key-value pair\n",
        "my_dict[\"occupation\"] = \"Software Engineer\"\n",
        "print(my_dict)\n",
        "\n",
        "# Modifying a value\n",
        "my_dict[\"age\"] = 31\n",
        "print(my_dict)\n",
        "\n",
        "# Removing a key-value pair\n",
        "del my_dict[\"city\"]\n",
        "print(my_dict)\n",
        "\n",
        "# Iterating through a dictionary\n",
        "for key, value in my_dict.items():\n",
        "  print(key, \":\", value)\n",
        "\n",
        "# Checking if a key exists\n",
        "if \"name\" in my_dict:\n",
        "  print(\"Name key exists\")\n",
        "\n",
        "# Other dictionary methods\n",
        "print(my_dict.keys())  # Returns a list of keys\n",
        "print(my_dict.values())  # Returns a list of values\n"
      ],
      "metadata": {
        "colab": {
          "base_uri": "https://localhost:8080/"
        },
        "id": "qvDHWI-ch4zi",
        "outputId": "700d2309-c96e-4e87-dac3-7c4cd44fcc4c"
      },
      "execution_count": 84,
      "outputs": [
        {
          "output_type": "stream",
          "name": "stdout",
          "text": [
            "{'name': 'John Doe', 'age': 30, 'city': 'New York'}\n",
            "John Doe\n",
            "30\n",
            "{'name': 'John Doe', 'age': 30, 'city': 'New York', 'occupation': 'Software Engineer'}\n",
            "{'name': 'John Doe', 'age': 31, 'city': 'New York', 'occupation': 'Software Engineer'}\n",
            "{'name': 'John Doe', 'age': 31, 'occupation': 'Software Engineer'}\n",
            "name : John Doe\n",
            "age : 31\n",
            "occupation : Software Engineer\n",
            "Name key exists\n",
            "dict_keys(['name', 'age', 'occupation'])\n",
            "dict_values(['John Doe', 31, 'Software Engineer'])\n"
          ]
        }
      ]
    },
    {
      "cell_type": "code",
      "source": [
        "my_new_dict = {\n",
        "  \"name\": \"Dinash Maliya\",\n",
        "  \"age\": 32,\n",
        "  \"city\": \"Karachi\"\n",
        "}\n",
        "print(my_new_dict)\n",
        "for key, value in my_new_dict.items():\n",
        "  print(key, value)"
      ],
      "metadata": {
        "colab": {
          "base_uri": "https://localhost:8080/"
        },
        "id": "z40I6m71in4o",
        "outputId": "4ee0d146-4791-4631-a31f-dbdaa1beff14"
      },
      "execution_count": 88,
      "outputs": [
        {
          "output_type": "stream",
          "name": "stdout",
          "text": [
            "{'name': 'Dinash Maliya', 'age': 32, 'city': 'Karachi'}\n",
            "name Dinash Maliya\n",
            "age 32\n",
            "city Karachi\n"
          ]
        }
      ]
    },
    {
      "cell_type": "code",
      "source": [],
      "metadata": {
        "id": "ArdkcXeWvEyu"
      },
      "execution_count": null,
      "outputs": []
    },
    {
      "cell_type": "markdown",
      "source": [
        "### **Tuples of Python**"
      ],
      "metadata": {
        "id": "bd3HvGGSvG6K"
      }
    },
    {
      "cell_type": "code",
      "source": [
        "# prompt: create tuples of 10 values\n",
        "\n",
        "my_tuple = (1, 2, 3, \"apple\", \"banana\", True, 3.14, \"orange\", \"grape\", 100)\n",
        "print(my_tuple)\n",
        "my_tuple[3]\n",
        "print(len(my_tuple))\n",
        "\n",
        "len1=len(my_tuple)\n",
        "for a in range(len1):\n",
        "  print(my_tuple[a])\n",
        "#max\n",
        "#min\n",
        "#count\n",
        "#index\n",
        "#sum\n",
        "#sorted\n",
        "\n",
        "\n"
      ],
      "metadata": {
        "colab": {
          "base_uri": "https://localhost:8080/"
        },
        "id": "GVa94lYkxCMQ",
        "outputId": "6b9a2248-ca3c-4969-bf47-c8b0dd54a918"
      },
      "execution_count": 126,
      "outputs": [
        {
          "output_type": "stream",
          "name": "stdout",
          "text": [
            "(1, 2, 3, 'apple', 'banana', True, 3.14, 'orange', 'grape', 100)\n",
            "10\n",
            "1\n",
            "2\n",
            "3\n",
            "apple\n",
            "banana\n",
            "True\n",
            "3.14\n",
            "orange\n",
            "grape\n",
            "100\n"
          ]
        }
      ]
    },
    {
      "cell_type": "markdown",
      "source": [
        "**tuples function**"
      ],
      "metadata": {
        "id": "MN2FkS081Tlz"
      }
    },
    {
      "source": [
        "my_tuple1 = (1,2,3,5,6,2,2,19,34,2,2)\n",
        "\n",
        "print(max(my_tuple1))\n",
        "print(min(my_tuple1))\n",
        "print(my_tuple.count(2))\n",
        "print(my_tuple1.index(6))\n",
        "print(sum(my_tuple1))\n",
        "print(sorted(my_tuple1))"
      ],
      "cell_type": "code",
      "metadata": {
        "colab": {
          "base_uri": "https://localhost:8080/"
        },
        "id": "Clk8f9V-z7ut",
        "outputId": "ad150ea2-1652-46e7-d3f3-e2d147bc5ede"
      },
      "execution_count": 142,
      "outputs": [
        {
          "output_type": "stream",
          "name": "stdout",
          "text": [
            "34\n",
            "1\n",
            "1\n",
            "4\n",
            "78\n",
            "[1, 2, 2, 2, 2, 2, 3, 5, 6, 19, 34]\n"
          ]
        }
      ]
    },
    {
      "cell_type": "markdown",
      "source": [
        "# **set of python**"
      ],
      "metadata": {
        "id": "3u1kU0RFw-jz"
      }
    },
    {
      "cell_type": "code",
      "source": [
        "# prompt: set in python\n",
        "\n",
        "# Creating a set\n",
        "my_set = {1, 2, 3, 4, 5}\n",
        "print(my_set)  # Output: {1, 2, 3, 4, 5}\n",
        "\n",
        "# Adding elements\n",
        "my_set.add(6)\n",
        "print(my_set)  # Output: {1, 2, 3, 4, 5, 6}\n",
        "\n",
        "# Removing elements\n",
        "my_set.remove(3)\n",
        "print(my_set)  # Output: {1, 2, 4, 5, 6}\n",
        "\n",
        "# Set operations\n",
        "set1 = {1, 2, 3}\n",
        "set2 = {3, 4, 5}\n",
        "\n",
        "# Union\n",
        "print(set1 | set2)  # Output: {1, 2, 3, 4, 5}\n",
        "print(set1.union(set2))  # Output: {1, 2, 3, 4, 5}\n",
        "\n",
        "# Intersection\n",
        "print(set1 & set2)  # Output: {3}\n",
        "print(set1.intersection(set2))  # Output: {3}\n",
        "\n",
        "# Difference\n",
        "print(set1 - set2)  # Output: {1, 2}\n",
        "print(set1.difference(set2))  # Output: {1, 2}\n",
        "\n",
        "# Checking membership\n",
        "if 2 in set1:\n",
        "  print(\"2 is in set1\")\n",
        "my_new_set = {1, 2, 3,5,6,7,9,3}\n",
        "my_new_set.pop()\n",
        "my_new_set2 = {1, 13,14,6}\n",
        "my_new_set2.update(my_new_set)\n",
        "print(my_new_set2)\n",
        "#add\n",
        "#remove\n",
        "#union\n",
        "#intersection\n",
        "#difference\n",
        "#discard\n",
        "#pop\n",
        "#clear\n",
        "#update\n",
        "for a in my_new_set:\n",
        "  print(a)"
      ],
      "metadata": {
        "colab": {
          "base_uri": "https://localhost:8080/"
        },
        "id": "d7UHTniIjamI",
        "outputId": "f22976a0-8426-45f0-8261-05cfb2749dfb"
      },
      "execution_count": 104,
      "outputs": [
        {
          "output_type": "stream",
          "name": "stdout",
          "text": [
            "{1, 2, 3, 4, 5}\n",
            "{1, 2, 3, 4, 5, 6}\n",
            "{1, 2, 4, 5, 6}\n",
            "{1, 2, 3, 4, 5}\n",
            "{1, 2, 3, 4, 5}\n",
            "{3}\n",
            "{3}\n",
            "{1, 2}\n",
            "{1, 2}\n",
            "2 is in set1\n",
            "{1, 2, 3, 5, 6, 7, 9, 13, 14}\n",
            "2\n",
            "3\n",
            "5\n",
            "6\n",
            "7\n",
            "9\n"
          ]
        }
      ]
    },
    {
      "cell_type": "code",
      "source": [],
      "metadata": {
        "id": "BjhoT80fFIha"
      },
      "execution_count": null,
      "outputs": []
    },
    {
      "cell_type": "code",
      "source": [
        "print(\"this is my first{}\".format(\"python class\"))"
      ],
      "metadata": {
        "colab": {
          "base_uri": "https://localhost:8080/"
        },
        "id": "7JJf-fr2U4fu",
        "outputId": "628fd7b2-20c6-4ace-b2ed-f2c346409f47"
      },
      "execution_count": 64,
      "outputs": [
        {
          "output_type": "stream",
          "name": "stdout",
          "text": [
            "this is my firstpython class\n"
          ]
        }
      ]
    },
    {
      "cell_type": "code",
      "source": [
        "# prompt: pyhton dictionary\n",
        "\n",
        "\n",
        "# Python dictionary\n",
        "my_dict = {\"name\": \"John\", \"age\": 30, \"city\": \"New York\"}\n",
        "print(my_dict)\n",
        "for key, value in my_dict.items():\n",
        "  print(key, value)"
      ],
      "metadata": {
        "colab": {
          "base_uri": "https://localhost:8080/"
        },
        "id": "YFnCASZceRq_",
        "outputId": "f963c9e8-6aea-4483-e660-79464ae765bc"
      },
      "execution_count": 71,
      "outputs": [
        {
          "output_type": "stream",
          "name": "stdout",
          "text": [
            "{'name': 'John', 'age': 30, 'city': 'New York'}\n",
            "name John\n",
            "age 30\n",
            "city New York\n"
          ]
        }
      ]
    },
    {
      "cell_type": "code",
      "source": [
        "# prompt: create marksheet using if\n",
        "\n",
        "marks = int(input(\"Enter your marks: \"))\n",
        "\n",
        "if marks >= 90:\n",
        "  grade = \"A+\"\n",
        "elif marks >= 80:\n",
        "  grade = \"A\"\n",
        "elif marks >= 70:\n",
        "  grade = \"B\"\n",
        "elif marks >= 60:\n",
        "  grade = \"C\"\n",
        "elif marks >= 50:\n",
        "  grade = \"D\"\n",
        "else:\n",
        "  grade = \"F\"\n",
        "\n",
        "print(\"Your grade is:\", grade)\n"
      ],
      "metadata": {
        "id": "A0dTgKHQXKCD"
      },
      "execution_count": null,
      "outputs": []
    },
    {
      "cell_type": "code",
      "source": [
        "# prompt: 2 table using for loop\n",
        "\n",
        "num = int(input(\"Enter the number for table: \"))\n",
        "\n",
        "for i in range(1, 11):\n",
        "  print(num, \"x\", i, \"=\", num*i)\n",
        "\n",
        "\n"
      ],
      "metadata": {
        "colab": {
          "base_uri": "https://localhost:8080/"
        },
        "id": "BT45571xXevB",
        "outputId": "1b33bd0b-5cc7-45c2-f777-dc2f66241e21"
      },
      "execution_count": 67,
      "outputs": [
        {
          "output_type": "stream",
          "name": "stdout",
          "text": [
            "Enter the number for table: 4\n",
            "4 x 1 = 4\n",
            "4 x 2 = 8\n",
            "4 x 3 = 12\n",
            "4 x 4 = 16\n",
            "4 x 5 = 20\n",
            "4 x 6 = 24\n",
            "4 x 7 = 28\n",
            "4 x 8 = 32\n",
            "4 x 9 = 36\n",
            "4 x 10 = 40\n"
          ]
        }
      ]
    },
    {
      "cell_type": "code",
      "source": [
        "# prompt: while loop\n",
        "\n",
        "count = 0\n",
        "while count < 5:\n",
        "  print(\"Count:\", count)\n",
        "  count += 1\n"
      ],
      "metadata": {
        "colab": {
          "base_uri": "https://localhost:8080/"
        },
        "id": "MxWYM7JOXv6z",
        "outputId": "15811f93-440f-4825-f8a9-4b6094dcce32"
      },
      "execution_count": 68,
      "outputs": [
        {
          "output_type": "stream",
          "name": "stdout",
          "text": [
            "Count: 0\n",
            "Count: 1\n",
            "Count: 2\n",
            "Count: 3\n",
            "Count: 4\n"
          ]
        }
      ]
    },
    {
      "cell_type": "code",
      "source": [
        "# prompt: create small program using while loop\n",
        "\n",
        "secret_number = 42\n",
        "guess = 0\n",
        "\n",
        "while guess != secret_number:\n",
        "  guess = int(input(\"Guess the secret number: \"))\n",
        "  if guess < secret_number:\n",
        "    print(\"Too low!\")\n",
        "  elif guess > secret_number:\n",
        "    print(\"Too high!\")\n",
        "\n",
        "print(\"Congratulations! You guessed the secret number.\")\n"
      ],
      "metadata": {
        "colab": {
          "base_uri": "https://localhost:8080/"
        },
        "id": "OD08P2s9YuMH",
        "outputId": "21d9d652-78ff-4b85-8db7-a2f96f75d61c"
      },
      "execution_count": 69,
      "outputs": [
        {
          "output_type": "stream",
          "name": "stdout",
          "text": [
            "Guess the secret number: 32\n",
            "Too low!\n",
            "Guess the secret number: 45\n",
            "Too high!\n",
            "Guess the secret number: 42\n",
            "Congratulations! You guessed the secret number.\n"
          ]
        }
      ]
    },
    {
      "cell_type": "code",
      "source": [],
      "metadata": {
        "id": "2PoeOgmJeMBW"
      },
      "execution_count": null,
      "outputs": []
    },
    {
      "cell_type": "code",
      "source": [
        "from fractions import Fraction"
      ],
      "metadata": {
        "id": "DstCkKbfJ5RI"
      },
      "execution_count": 27,
      "outputs": []
    },
    {
      "cell_type": "code",
      "source": [
        "faraction=Fraction(8,3)\n",
        "print(faraction)"
      ],
      "metadata": {
        "colab": {
          "base_uri": "https://localhost:8080/"
        },
        "id": "zv60UyapKBRB",
        "outputId": "f55f2e6f-f8fc-404a-dabd-f383e73f61f1"
      },
      "execution_count": 28,
      "outputs": [
        {
          "output_type": "stream",
          "name": "stdout",
          "text": [
            "8/3\n"
          ]
        }
      ]
    },
    {
      "cell_type": "code",
      "source": [
        "Fraction(20/4)"
      ],
      "metadata": {
        "colab": {
          "base_uri": "https://localhost:8080/"
        },
        "id": "Iyb3FolTKcTz",
        "outputId": "d5e62559-c9ea-4dd0-b784-1aa19e3db2da"
      },
      "execution_count": 33,
      "outputs": [
        {
          "output_type": "execute_result",
          "data": {
            "text/plain": [
              "Fraction(5, 1)"
            ]
          },
          "metadata": {},
          "execution_count": 33
        }
      ]
    },
    {
      "cell_type": "code",
      "source": [
        "frac_num = 8/3\n",
        "print(\"Rational number formatting using %d\")\n",
        "print(\"%d is equal to 8/3 using this operator.\" % frac_num)"
      ],
      "metadata": {
        "colab": {
          "base_uri": "https://localhost:8080/"
        },
        "id": "EMHoI9EyKMgb",
        "outputId": "32b26f81-7a57-466b-c103-0cf9785bbbb9"
      },
      "execution_count": 29,
      "outputs": [
        {
          "output_type": "stream",
          "name": "stdout",
          "text": [
            "Rational number formatting using %d\n",
            "2 is equal to 8/3 using this operator.\n"
          ]
        }
      ]
    },
    {
      "cell_type": "code",
      "execution_count": 34,
      "metadata": {
        "id": "nSsPnolDcEfp",
        "colab": {
          "base_uri": "https://localhost:8080/"
        },
        "outputId": "401e7d42-1271-48a2-d77d-33e3074fb545"
      },
      "outputs": [
        {
          "output_type": "stream",
          "name": "stdout",
          "text": [
            "Rational number formatting using %d\n",
            "2 is equal to 8/3 using this operator.\n",
            "Decimal number formatting using %d\n",
            "10 is equal to 10.9785 using this operator.\n"
          ]
        }
      ],
      "source": [
        "# declaring rational number\n",
        "frac_num = 8/3\n",
        "\n",
        "# concatenating numeric value within string\n",
        "print(\"Rational number formatting using %d\")\n",
        "print(\"%d is equal to 8/3 using this operator.\" % frac_num)\n",
        "\n",
        "# declaring decimal number\n",
        "dec_num = 10.9785\n",
        "\n",
        "# concatenating numeric value within string\n",
        "print(\"Decimal number formatting using %d\")\n",
        "print(\"%d is equal to 10.9785 using this operator.\" % dec_num)"
      ]
    },
    {
      "cell_type": "code",
      "source": [
        "a=10\n",
        "b=6\n",
        "c=45\n",
        "print(\"%d , %d kia hal hai%d\"%(a,b,c))"
      ],
      "metadata": {
        "colab": {
          "base_uri": "https://localhost:8080/"
        },
        "id": "xPJWtVGoPflP",
        "outputId": "e1fe8ceb-cc89-4294-a514-d9eeeea901a3"
      },
      "execution_count": 42,
      "outputs": [
        {
          "output_type": "stream",
          "name": "stdout",
          "text": [
            "10 , 6 kia hal hai45\n"
          ]
        }
      ]
    },
    {
      "cell_type": "code",
      "source": [
        "\n",
        "name =input(\"Enter your Name:\")\n",
        "age = input(\"Enter your age:\")\n",
        "\n",
        "print (\"%s's age is %s.\"%(name.upper(),age))"
      ],
      "metadata": {
        "id": "0lLfUJ73cwvW",
        "colab": {
          "base_uri": "https://localhost:8080/"
        },
        "outputId": "cdb3cba4-a7bc-4608-bbe9-66a6d8a5c32c"
      },
      "execution_count": 14,
      "outputs": [
        {
          "output_type": "stream",
          "name": "stdout",
          "text": [
            "Enter your Name:dinash\n",
            "Enter your age:34\n",
            "DINASH's age is 34.\n"
          ]
        }
      ]
    },
    {
      "cell_type": "code",
      "source": [
        "a=55\n",
        "b=155\n",
        "c=14\n",
        "\n",
        "a,b,c=c,b,a\n",
        "\n",
        "print(a,b,c)\n"
      ],
      "metadata": {
        "colab": {
          "base_uri": "https://localhost:8080/"
        },
        "id": "U1UheXLidIA8",
        "outputId": "238ebcb3-a700-4af0-874c-6b5c56cf274f"
      },
      "execution_count": 15,
      "outputs": [
        {
          "output_type": "stream",
          "name": "stdout",
          "text": [
            "14 155 55\n"
          ]
        }
      ]
    },
    {
      "cell_type": "code",
      "source": [
        "randonnumber=float(input(\"Enter Your Floating Number\"))\n",
        "print(\"Your Enter Number is %13.2f\"%randonnumber)"
      ],
      "metadata": {
        "id": "L4KKmIZXe_8-",
        "colab": {
          "base_uri": "https://localhost:8080/"
        },
        "outputId": "7400a7ba-8b78-4e91-abd0-82ca0116ab8c"
      },
      "execution_count": 16,
      "outputs": [
        {
          "output_type": "stream",
          "name": "stdout",
          "text": [
            "Enter Your Floating Number2\n",
            "Your Enter Number is          2.00\n"
          ]
        }
      ]
    },
    {
      "cell_type": "code",
      "source": [
        "#formatted vs Raw data\n",
        "print(\"Statement in 2 lines %s\"%'My name is \\n Dinash Maliya\\n MSCS Stuent')\n",
        "print(\"Statement in 2 lines %r\"%'My name is \\n Dinash Maliya\\n MSCS Stuent')"
      ],
      "metadata": {
        "id": "QmiIRYz5ofXz",
        "colab": {
          "base_uri": "https://localhost:8080/"
        },
        "outputId": "44cba5e3-7a39-46a6-d3fa-b0e995566c0d"
      },
      "execution_count": 17,
      "outputs": [
        {
          "output_type": "stream",
          "name": "stdout",
          "text": [
            "Statement in 2 lines My name is \n",
            " Dinash Maliya\n",
            " MSCS Stuent\n",
            "Statement in 2 lines 'My name is \\n Dinash Maliya\\n MSCS Stuent'\n"
          ]
        }
      ]
    },
    {
      "cell_type": "code",
      "source": [
        "# Using %s\n",
        "name = 'Dinash'\n",
        "age = 32\n",
        "print(\"My name is %s and I am %s years old.\" % (name, age))\n",
        "\n",
        "# Using %r\n",
        "name = 'Dinash'\n",
        "age = 32\n",
        "print(\"My name is %r and I am %r years old.\" % (name, age))"
      ],
      "metadata": {
        "id": "Jb-mwUMOprxB",
        "colab": {
          "base_uri": "https://localhost:8080/"
        },
        "outputId": "4a4a6b70-208f-4f1f-eb78-09e4dc99a8df"
      },
      "execution_count": 18,
      "outputs": [
        {
          "output_type": "stream",
          "name": "stdout",
          "text": [
            "My name is Dinash and I am 32 years old.\n",
            "My name is 'Dinash' and I am 32 years old.\n"
          ]
        }
      ]
    },
    {
      "cell_type": "code",
      "source": [
        "#format\n",
        "\n",
        "print(\"My name is {0}, I'm {1}\".format(\"Dinash\",32))\n",
        "Name_Age = \"My name is {fname}, I'm {age} and I'm Student of {Class} in Maju\".format(fname = \"Dinash\", age = 32, Class=\"MSCS\")\n",
        "print(Name_Age)"
      ],
      "metadata": {
        "id": "CRv83VWpqjfQ",
        "colab": {
          "base_uri": "https://localhost:8080/"
        },
        "outputId": "e41eb195-b1bf-4616-b4eb-8a916f51af03"
      },
      "execution_count": 19,
      "outputs": [
        {
          "output_type": "stream",
          "name": "stdout",
          "text": [
            "My name is Dinash, I'm 32\n",
            "My name is Dinash, I'm 32 and I'm Student of MSCS in Maju\n"
          ]
        }
      ]
    },
    {
      "cell_type": "code",
      "source": [
        "#aligment\n",
        "print('{0:20} | {1:20}'.format(\"Course Code\", \"Course Title\"))\n",
        "print('{0:#>20} | {1:#>20}'.format(\"Course Code\", \"Course Title\"))\n",
        "print('{0:>20} | {1:@>20}'.format(\"Course Code\", \"Course Title\"))\n"
      ],
      "metadata": {
        "id": "BhdA-SJTsxDx",
        "colab": {
          "base_uri": "https://localhost:8080/"
        },
        "outputId": "a45eebd5-de02-4ec5-aa66-ed67b48e021e"
      },
      "execution_count": 20,
      "outputs": [
        {
          "output_type": "stream",
          "name": "stdout",
          "text": [
            "Course Code          | Course Title        \n",
            "#########Course Code | ########Course Title\n",
            "         Course Code | @@@@@@@@Course Title\n"
          ]
        }
      ]
    },
    {
      "cell_type": "code",
      "source": [
        "#fstring\n",
        "title=\"Applied Programing\"\n",
        "print(f\"Course Title is {title!r}\")"
      ],
      "metadata": {
        "id": "JoTovd7Pv-2u",
        "colab": {
          "base_uri": "https://localhost:8080/"
        },
        "outputId": "9402ca1c-22c9-4423-f531-65a8f386d45b"
      },
      "execution_count": 21,
      "outputs": [
        {
          "output_type": "stream",
          "name": "stdout",
          "text": [
            "Course Title is 'Applied Programing'\n"
          ]
        }
      ]
    },
    {
      "cell_type": "code",
      "source": [
        "#Condition\n",
        "a=155\n",
        "b=1000\n",
        "if a<b:\n",
        "  print(\"a is smaller than b\")\n",
        "else:\n",
        "  print(\"b is smaller than a\")"
      ],
      "metadata": {
        "id": "0PlRybh0wMZ8",
        "colab": {
          "base_uri": "https://localhost:8080/"
        },
        "outputId": "e126a592-18f1-49cc-9ebc-d3cba0802c18"
      },
      "execution_count": 22,
      "outputs": [
        {
          "output_type": "stream",
          "name": "stdout",
          "text": [
            "a is smaller than b\n"
          ]
        }
      ]
    },
    {
      "cell_type": "code",
      "source": [
        "a=int(input(\"Enter Your First Value:\"))\n",
        "b=int(input(\"Enter Your 2nd Value:\"))\n",
        "if a<b:\n",
        "  print(\"First Value is smaller than 2nd Value:\")\n",
        "elif b<a:\n",
        "  print(\"2nd Value is smaller than First Value:\")\n",
        "else:\n",
        "  print(\"Both are equal\")\n"
      ],
      "metadata": {
        "id": "D9CHmjnNwssw",
        "colab": {
          "base_uri": "https://localhost:8080/"
        },
        "outputId": "e488a323-934f-46f6-8b35-b2ea3e24a726"
      },
      "execution_count": 23,
      "outputs": [
        {
          "output_type": "stream",
          "name": "stdout",
          "text": [
            "Enter Your First Value:2\n",
            "Enter Your 2nd Value:2\n",
            "Both are equal\n"
          ]
        }
      ]
    },
    {
      "cell_type": "code",
      "source": [
        "a=int(input(\"Enter Your 1st Value:\"))\n",
        "b=int(input(\"Enter Your 2nd Value:\"))\n",
        "cb=int(input(\"Enter Your 3rd Value:\"))\n",
        "if a<b:\n",
        "  if a <c:\n",
        "    print(\"1st is smallest\")\n",
        "  elif b<c:\n",
        "    print(\"2nd is smallest\")\n",
        "  else:\n",
        "    print(\"3rd is smallest\")"
      ],
      "metadata": {
        "id": "F__aHwmfy3tT",
        "colab": {
          "base_uri": "https://localhost:8080/"
        },
        "outputId": "f0d1e67f-4d46-49b4-9aee-2c8b92847281"
      },
      "execution_count": 24,
      "outputs": [
        {
          "name": "stdout",
          "output_type": "stream",
          "text": [
            "Enter Your 1st Value:2\n",
            "Enter Your 2nd Value:2\n",
            "Enter Your 3rd Value:3\n"
          ]
        }
      ]
    },
    {
      "cell_type": "code",
      "source": [
        "for number1 in range(1,11):\n",
        "  print(number1)\n"
      ],
      "metadata": {
        "id": "Jy9upqAT1q5O",
        "colab": {
          "base_uri": "https://localhost:8080/"
        },
        "outputId": "d625e55c-7b5d-4867-c045-27ec97f657a2"
      },
      "execution_count": 25,
      "outputs": [
        {
          "output_type": "stream",
          "name": "stdout",
          "text": [
            "1\n",
            "2\n",
            "3\n",
            "4\n",
            "5\n",
            "6\n",
            "7\n",
            "8\n",
            "9\n",
            "10\n"
          ]
        }
      ]
    },
    {
      "cell_type": "code",
      "source": [
        "# prompt: for loop\n",
        "\n",
        "for i in range(1, 11):\n",
        "  print(i)\n"
      ],
      "metadata": {
        "colab": {
          "base_uri": "https://localhost:8080/"
        },
        "id": "fYQVgaZY2ldg",
        "outputId": "f0b98587-9c41-45a3-a97b-11d6e1ef64cd"
      },
      "execution_count": 44,
      "outputs": [
        {
          "output_type": "stream",
          "name": "stdout",
          "text": [
            "1\n",
            "2\n",
            "3\n",
            "4\n",
            "5\n",
            "6\n",
            "7\n",
            "8\n",
            "9\n",
            "10\n"
          ]
        }
      ]
    },
    {
      "cell_type": "code",
      "source": [
        "\n"
      ],
      "metadata": {
        "colab": {
          "base_uri": "https://localhost:8080/"
        },
        "id": "MpK0Vz_eRhK7",
        "outputId": "2507a89a-58cd-4d29-c804-cdbfcb3943ae"
      },
      "execution_count": 48,
      "outputs": [
        {
          "output_type": "stream",
          "name": "stdout",
          "text": [
            "12\n",
            "13\n",
            "14\n",
            "15\n",
            "16\n",
            "17\n",
            "18\n",
            "19\n",
            "20\n",
            "21\n",
            "22\n",
            "23\n",
            "24\n",
            "25\n",
            "26\n",
            "27\n",
            "28\n",
            "29\n",
            "30\n",
            "31\n",
            "32\n",
            "33\n",
            "34\n",
            "35\n",
            "36\n",
            "37\n",
            "38\n",
            "39\n",
            "40\n",
            "41\n",
            "42\n",
            "43\n",
            "44\n",
            "45\n",
            "46\n",
            "47\n",
            "48\n",
            "49\n",
            "50\n",
            "51\n",
            "52\n",
            "53\n",
            "54\n",
            "55\n",
            "56\n",
            "57\n",
            "58\n",
            "59\n",
            "60\n",
            "61\n",
            "62\n",
            "63\n",
            "64\n",
            "65\n",
            "66\n",
            "67\n",
            "68\n",
            "69\n",
            "70\n",
            "71\n",
            "72\n",
            "73\n",
            "74\n",
            "75\n",
            "76\n",
            "77\n",
            "78\n",
            "79\n",
            "80\n",
            "81\n",
            "82\n",
            "83\n",
            "84\n",
            "85\n",
            "86\n",
            "87\n",
            "88\n",
            "89\n",
            "90\n",
            "91\n",
            "92\n",
            "93\n",
            "94\n",
            "95\n",
            "96\n",
            "97\n",
            "98\n",
            "99\n",
            "100\n",
            "101\n",
            "102\n",
            "103\n",
            "104\n",
            "105\n",
            "106\n",
            "107\n",
            "108\n",
            "109\n",
            "110\n",
            "111\n",
            "112\n",
            "113\n",
            "114\n",
            "115\n",
            "116\n",
            "117\n",
            "118\n",
            "119\n"
          ]
        }
      ]
    }
  ]
}