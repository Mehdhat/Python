{
  "nbformat": 4,
  "nbformat_minor": 0,
  "metadata": {
    "colab": {
      "provenance": []
    },
    "kernelspec": {
      "name": "python3",
      "display_name": "Python 3"
    },
    "language_info": {
      "name": "python"
    }
  },
  "cells": [
    {
      "cell_type": "code",
      "execution_count": null,
      "metadata": {
        "id": "Jz5acPdk6cNc"
      },
      "outputs": [],
      "source": [
        "#__init__.py File\n",
        "#Purpose: The __init__.py file is used to mark a directory as a Python package. It can be empty, but it can also execute initialization code for the package or set up package-level variables.\n",
        "\n",
        "#Location: It should be placed inside the directory that you want to make a package.\n",
        "\n",
        "# my_package/\n",
        "#    __init__.py\n",
        "#    module1.py\n",
        "\n",
        "    #module2.py"
      ]
    },
    {
      "cell_type": "code",
      "source": [
        "#Usage: If you want to initialize some package-level variables or import specific modules when the package is imported, you can include that code in __init__.py.\n",
        "\n",
        "# my_package/__init__.py\n",
        "#from .module1 import ClassA\n",
        "#from .module2 import ClassB"
      ],
      "metadata": {
        "id": "pGblHOSmxItp"
      },
      "execution_count": null,
      "outputs": []
    },
    {
      "cell_type": "code",
      "source": [
        "#Basic Import: Import a module using import module_name.\n",
        "\n",
        "import math\n",
        "print(math.sqrt(16))  # Output: 4.0"
      ],
      "metadata": {
        "colab": {
          "base_uri": "https://localhost:8080/"
        },
        "id": "US2wbxGQxONf",
        "outputId": "f929cc04-b462-4cd6-8478-a26f0c984e6b"
      },
      "execution_count": null,
      "outputs": [
        {
          "output_type": "stream",
          "name": "stdout",
          "text": [
            "4.0\n"
          ]
        }
      ]
    },
    {
      "cell_type": "code",
      "source": [
        "#Import Specific Items: Import specific functions or classes from a module.\n",
        "from math import sqrt\n",
        "print(sqrt(16))  # Output: 4.0"
      ],
      "metadata": {
        "colab": {
          "base_uri": "https://localhost:8080/"
        },
        "id": "vyiZ7PCkxWk2",
        "outputId": "7677a0b1-a54a-40dc-bd9c-93088d02860d"
      },
      "execution_count": null,
      "outputs": [
        {
          "output_type": "stream",
          "name": "stdout",
          "text": [
            "4.0\n"
          ]
        }
      ]
    },
    {
      "cell_type": "code",
      "source": [
        "#Alias Import: Import a module or item with an alias.\n",
        "\n",
        "import numpy as np\n",
        "print(np.array([1, 2, 3]))"
      ],
      "metadata": {
        "id": "8T9TLKGgxb2b"
      },
      "execution_count": null,
      "outputs": []
    },
    {
      "cell_type": "code",
      "source": [
        "#Class: A blueprint for creating objects (a particular data structure), encapsulating data and methods that operate on that data.\n",
        "\n",
        "\n",
        "class Dog:\n",
        "    def __init__(self, name, age):\n",
        "        self.name = name\n",
        "        self.age = age\n",
        "\n",
        "    def bark(self):\n",
        "        return f\"{self.name} says Woof!\""
      ],
      "metadata": {
        "id": "xHO6egkNxhdm"
      },
      "execution_count": null,
      "outputs": []
    },
    {
      "cell_type": "code",
      "source": [
        "#Object: An instance of a class.\n",
        "\n",
        "my_dog = Dog(\"Buddy\", 3)\n",
        "print(my_dog.bark())  # Output: Buddy says Woof!"
      ],
      "metadata": {
        "colab": {
          "base_uri": "https://localhost:8080/"
        },
        "id": "ZB0lMMhmxn6q",
        "outputId": "6ea3a546-7388-49f4-fc83-2e23dad3466a"
      },
      "execution_count": null,
      "outputs": [
        {
          "output_type": "stream",
          "name": "stdout",
          "text": [
            "Buddy says Woof!\n"
          ]
        }
      ]
    },
    {
      "cell_type": "code",
      "source": [
        "#Instance Methods: Operate on an instance of the class and can access its attributes and other methods.\n",
        "\n",
        "class Dog:\n",
        "    def __init__(self, name, age):\n",
        "        self.name = name\n",
        "        self.age = age\n",
        "\n",
        "    def bark(self):\n",
        "        return f\"{self.name} says Woof!\""
      ],
      "metadata": {
        "id": "kf1QVAo7xvl9"
      },
      "execution_count": null,
      "outputs": []
    },
    {
      "cell_type": "code",
      "source": [
        "#Static Methods: Do not operate on an instance and do not have access to instance-specific data. They are defined with the @staticmethod decorator.\n",
        "\n",
        "class MathUtils:\n",
        "    @staticmethod\n",
        "    def add(x, y):\n",
        "        return x + y"
      ],
      "metadata": {
        "id": "hXCBkGGzx1lh"
      },
      "execution_count": null,
      "outputs": []
    },
    {
      "cell_type": "code",
      "source": [
        "#Accessors: Methods used to access or modify the attributes of an object. They are often called getters and setters.\n",
        "\n",
        "class Dog:\n",
        "    def __init__(self, name, age):\n",
        "        self._name = name\n",
        "        self._age = age\n",
        "\n",
        "    @property\n",
        "    def name(self):\n",
        "        return self._name\n",
        "\n",
        "    @name.setter\n",
        "    def name(self, value):\n",
        "        self._name = value\n",
        "\n",
        "    @property\n",
        "    def age(self):\n",
        "        return self._age\n",
        "\n",
        "    @age.setter\n",
        "    def age(self, value):\n",
        "        if value > 0:\n",
        "            self._age = value\n"
      ],
      "metadata": {
        "id": "WX7XvpQ8x8LU"
      },
      "execution_count": null,
      "outputs": []
    },
    {
      "cell_type": "code",
      "source": [
        "\n",
        "#Public Attributes/Methods: Accessible from outside the class. They do not have any special naming conventions.\n",
        "\n",
        "class Dog:\n",
        "    def __init__(self, name):\n",
        "        self.name = name"
      ],
      "metadata": {
        "id": "OndJwSUKyRqf"
      },
      "execution_count": null,
      "outputs": []
    },
    {
      "cell_type": "code",
      "source": [
        "#Private Attributes/Methods: Not accessible from outside the class. They are prefixed with an underscore _ or double underscore __.\n",
        "\n",
        "class Dog:\n",
        "    def __init__(self, name):\n",
        "        self._name = name  # Protected attribute\n",
        "        self.__age = 5     # Private attribute\n",
        "\n",
        "    def _get_name(self):\n",
        "        return self._name"
      ],
      "metadata": {
        "id": "Aggzsp9HyY39"
      },
      "execution_count": null,
      "outputs": []
    },
    {
      "cell_type": "code",
      "source": [
        "#Self, Properties, Constructor (__init__)\n",
        "#self: Refers to the instance of the class itself. It is used to access attributes and methods from within the class.\n",
        "\n",
        "class Dog:\n",
        "    def __init__(self, name):\n",
        "        self.name = name  # self is used to access the instance attribute"
      ],
      "metadata": {
        "id": "sTeXgxmwyd-j"
      },
      "execution_count": null,
      "outputs": []
    },
    {
      "cell_type": "code",
      "source": [
        "#Properties: Provide a way to customize access to attributes. They use the @property decorator to define getter methods and @<property_name>.setter for setters.\n",
        "\n",
        "class Dog:\n",
        "    def __init__(self, name):\n",
        "        self._name = name\n",
        "\n",
        "    @property\n",
        "    def name(self):\n",
        "        return self._name\n",
        "\n",
        "    @name.setter\n",
        "    def name(self, value):\n",
        "        self._name = value"
      ],
      "metadata": {
        "id": "mvExFIeOykvR"
      },
      "execution_count": null,
      "outputs": []
    },
    {
      "cell_type": "code",
      "source": [
        "#Constructor (__init__): A special method called when an instance of the class is created. It initializes the object's attributes.\n",
        "\n",
        "\n",
        "class Dog:\n",
        "    def __init__(self, name, age):\n",
        "        self.name = name\n",
        "        self.age = age"
      ],
      "metadata": {
        "id": "oOx7s0kmynkn"
      },
      "execution_count": null,
      "outputs": []
    },
    {
      "cell_type": "markdown",
      "source": [],
      "metadata": {
        "id": "Wd6TCuLqwits"
      }
    },
    {
      "cell_type": "markdown",
      "source": [
        "italicized text"
      ],
      "metadata": {
        "id": "akOMsblM6dqR"
      }
    }
  ]
}