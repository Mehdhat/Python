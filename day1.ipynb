{
  "nbformat": 4,
  "nbformat_minor": 0,
  "metadata": {
    "colab": {
      "provenance": [],
      "toc_visible": true
    },
    "kernelspec": {
      "name": "python3",
      "display_name": "Python 3"
    },
    "language_info": {
      "name": "python"
    }
  },
  "cells": [
    {
      "cell_type": "code",
      "execution_count": 20,
      "metadata": {
        "colab": {
          "base_uri": "https://localhost:8080/"
        },
        "id": "FKO1kYrkXrxy",
        "outputId": "6f77e38d-6d49-4703-8cfa-c993c724f378"
      },
      "outputs": [
        {
          "output_type": "stream",
          "name": "stdout",
          "text": [
            "20\n",
            "2.46621207433047\n",
            "15\n",
            "1\n",
            "7.0\n"
          ]
        }
      ],
      "source": [
        "\n",
        "a=15\n",
        "b=20\n",
        "c=15\n",
        "a+b+c\n",
        "\n",
        "print(a+b-c)\n",
        "\n",
        "print(a**(1/3))\n",
        "\n",
        "print(c%b)\n",
        "\n",
        "print(b//c)\n",
        "\n",
        "print(5+2*9/3-4)\n",
        "\n"
      ]
    },
    {
      "cell_type": "code",
      "source": [
        "print(\"Hello World\")\n",
        "print(4+5)\n",
        "a1=5\n",
        "b1=5\n",
        "check1=a1==b1\n",
        "print(a1+b1)\n",
        "check1\n",
        "print(a1**b1)\n",
        "print(a1%b1)\n",
        "print(a1//b1)\n",
        "print(a1/b1)"
      ],
      "metadata": {
        "colab": {
          "base_uri": "https://localhost:8080/"
        },
        "id": "f5BUk2_6gv2U",
        "outputId": "96c08e75-f737-4b16-ccbc-b7f26d7cf3de"
      },
      "execution_count": 21,
      "outputs": [
        {
          "output_type": "stream",
          "name": "stdout",
          "text": [
            "Hello World\n",
            "9\n",
            "10\n",
            "3125\n",
            "0\n",
            "1\n",
            "1.0\n"
          ]
        }
      ]
    },
    {
      "cell_type": "code",
      "source": [
        "a=15\n",
        "b=5\n",
        "print(\"divided:\", a/b)\n",
        "total1=a+b\n",
        "print(\"Total\",total1)\n",
        "a!=b\n",
        "print(a!=b)\n"
      ],
      "metadata": {
        "colab": {
          "base_uri": "https://localhost:8080/"
        },
        "id": "3qtoKJFSZWi9",
        "outputId": "0c06148a-8d11-4bff-9791-4ef9ff6144ad"
      },
      "execution_count": 22,
      "outputs": [
        {
          "output_type": "stream",
          "name": "stdout",
          "text": [
            "divided: 3.0\n",
            "Total 20\n",
            "True\n"
          ]
        }
      ]
    },
    {
      "cell_type": "code",
      "source": [
        "#logic\n",
        "d=True\n",
        "e=False\n",
        "print(d,e)\n"
      ],
      "metadata": {
        "colab": {
          "base_uri": "https://localhost:8080/"
        },
        "id": "aCi8qVI2ja6M",
        "outputId": "4ebb3cb0-8953-42a4-b4a2-9de30f39fa2b"
      },
      "execution_count": 23,
      "outputs": [
        {
          "output_type": "stream",
          "name": "stdout",
          "text": [
            "True False\n"
          ]
        }
      ]
    },
    {
      "cell_type": "code",
      "source": [
        "print(\"dinash\", end=\"Sir\")\n",
        "print(\"aLi\", end=\"@\")\n",
        "print(\"j\", end=\".\")\n",
        "print(\"edu.pk\")"
      ],
      "metadata": {
        "colab": {
          "base_uri": "https://localhost:8080/"
        },
        "id": "T6CcUE-9j9qe",
        "outputId": "5ae3bab8-c826-4b88-f47c-1b687ff04cb0"
      },
      "execution_count": 24,
      "outputs": [
        {
          "output_type": "stream",
          "name": "stdout",
          "text": [
            "dinashSiraLi@j.edu.pk\n"
          ]
        }
      ]
    },
    {
      "cell_type": "code",
      "source": [],
      "metadata": {
        "id": "9EVFYirTjPM4"
      },
      "execution_count": 24,
      "outputs": []
    },
    {
      "cell_type": "code",
      "source": [
        "#list\n",
        "officelocation=[1,\"07\",'Cubical 32',\"Pakistan\"]\n",
        "officelocation"
      ],
      "metadata": {
        "colab": {
          "base_uri": "https://localhost:8080/"
        },
        "id": "uUqTzcOHleW5",
        "outputId": "4267a2cd-9e69-4f11-ac35-4874befb0c12"
      },
      "execution_count": 25,
      "outputs": [
        {
          "output_type": "execute_result",
          "data": {
            "text/plain": [
              "[1, '07', 'Cubical 32', 'Pakistan']"
            ]
          },
          "metadata": {},
          "execution_count": 25
        }
      ]
    },
    {
      "cell_type": "code",
      "source": [
        "#Indentify\n",
        "name=\"Dinash Maliya\"\n",
        "type(c)\n",
        "type(name)\n",
        "type(officelocation)\n",
        "print(type(name))\n",
        "print(type(c))\n",
        "print(type(officelocation))"
      ],
      "metadata": {
        "colab": {
          "base_uri": "https://localhost:8080/"
        },
        "id": "6Hq7s9EqmHTn",
        "outputId": "f209e87c-e457-4762-b1e4-fa70f605b1b8"
      },
      "execution_count": 32,
      "outputs": [
        {
          "output_type": "stream",
          "name": "stdout",
          "text": [
            "<class 'str'>\n",
            "<class 'int'>\n",
            "<class 'list'>\n"
          ]
        }
      ]
    },
    {
      "cell_type": "code",
      "source": [
        "#Reasinging varibales\n",
        "a=6\n",
        "a=a+15\n",
        "print(a)"
      ],
      "metadata": {
        "colab": {
          "base_uri": "https://localhost:8080/"
        },
        "id": "U8inJ3m_mycJ",
        "outputId": "0e448ea9-a86d-4eea-ab35-f2715b40c668"
      },
      "execution_count": 33,
      "outputs": [
        {
          "output_type": "stream",
          "name": "stdout",
          "text": [
            "21\n"
          ]
        }
      ]
    },
    {
      "cell_type": "code",
      "source": [
        "a=6\n",
        "a+=15\n",
        "print(a)"
      ],
      "metadata": {
        "id": "a-AMDtHynbar"
      },
      "execution_count": null,
      "outputs": []
    },
    {
      "cell_type": "code",
      "source": [
        "a=6\n",
        "a*=15\n",
        "print(a)"
      ],
      "metadata": {
        "colab": {
          "base_uri": "https://localhost:8080/"
        },
        "id": "2l6UJgwonn6D",
        "outputId": "a28865af-26f1-446a-8503-7761af48d21e"
      },
      "execution_count": 34,
      "outputs": [
        {
          "output_type": "stream",
          "name": "stdout",
          "text": [
            "90\n"
          ]
        }
      ]
    },
    {
      "cell_type": "code",
      "source": [
        "a=30\n",
        "a/=15\n",
        "print(a)"
      ],
      "metadata": {
        "id": "fMyF1FYMntD7"
      },
      "execution_count": null,
      "outputs": []
    },
    {
      "cell_type": "code",
      "source": [
        "a=3\n",
        "a=a**5\n",
        "print(a)"
      ],
      "metadata": {
        "id": "-P2jhYFPnyJr"
      },
      "execution_count": null,
      "outputs": []
    },
    {
      "cell_type": "code",
      "source": [
        "a=15\n",
        "a=a%2\n",
        "print(a)"
      ],
      "metadata": {
        "colab": {
          "base_uri": "https://localhost:8080/"
        },
        "id": "J5oNx01SoBtP",
        "outputId": "101f1fdb-178b-4fc8-bb84-b31618ed9ce9"
      },
      "execution_count": 35,
      "outputs": [
        {
          "output_type": "stream",
          "name": "stdout",
          "text": [
            "1\n"
          ]
        }
      ]
    },
    {
      "cell_type": "code",
      "source": [
        "#Logical OPrrationss\n",
        "#==, !=, >=, <=, >, <, or, and , not\n",
        "a1=22\n",
        "b=21\n",
        "c=20\n",
        "a=10\n",
        "\n",
        "a==b\n",
        "a>=b\n",
        "b>=c\n",
        "c<a\n",
        "a!=a\n",
        "print(a==b)\n",
        "print(a>=b)\n",
        "print(b>=c)\n",
        "print(c<a)\n",
        "print(a1!=a)\n",
        "\n"
      ],
      "metadata": {
        "colab": {
          "base_uri": "https://localhost:8080/"
        },
        "id": "PiaXUd3sosIV",
        "outputId": "dacef53f-c8cb-4a23-85b6-ded034ab47b3"
      },
      "execution_count": 43,
      "outputs": [
        {
          "output_type": "stream",
          "name": "stdout",
          "text": [
            "False\n",
            "False\n",
            "True\n",
            "False\n",
            "True\n"
          ]
        }
      ]
    },
    {
      "cell_type": "code",
      "source": [
        "not b==b  and  not c==a\n"
      ],
      "metadata": {
        "colab": {
          "base_uri": "https://localhost:8080/"
        },
        "id": "3fDrU8nVr8KJ",
        "outputId": "dacfcbe0-4dc6-4215-e8f7-4727a7553b03"
      },
      "execution_count": 44,
      "outputs": [
        {
          "output_type": "execute_result",
          "data": {
            "text/plain": [
              "False"
            ]
          },
          "metadata": {},
          "execution_count": 44
        }
      ]
    },
    {
      "cell_type": "code",
      "source": [
        "\n",
        "not a>a and b>c"
      ],
      "metadata": {
        "colab": {
          "base_uri": "https://localhost:8080/"
        },
        "id": "0wn6Pf5zshbx",
        "outputId": "2ecac4c3-670d-4e88-ba88-6002a76a9032"
      },
      "execution_count": 45,
      "outputs": [
        {
          "output_type": "execute_result",
          "data": {
            "text/plain": [
              "True"
            ]
          },
          "metadata": {},
          "execution_count": 45
        }
      ]
    },
    {
      "cell_type": "code",
      "source": [
        "officehours=input(\"Enter your office hourse:\")\n",
        "print(officehours)"
      ],
      "metadata": {
        "colab": {
          "base_uri": "https://localhost:8080/"
        },
        "id": "CY3j7KAbtZXS",
        "outputId": "709d53be-abd4-458a-d4c9-05abf27ac2fc"
      },
      "execution_count": 46,
      "outputs": [
        {
          "output_type": "stream",
          "name": "stdout",
          "text": [
            "Enter your office hourse:6\n",
            "6\n"
          ]
        }
      ]
    },
    {
      "cell_type": "code",
      "source": [
        "F_Name=input(\"Enter your First Name:\")\n",
        "L_Name=input(\"Enter your Last Name:\")\n",
        "age=int(input(\"Enter your Age:\"))\n",
        "print(F_Name,L_Name,age)"
      ],
      "metadata": {
        "colab": {
          "base_uri": "https://localhost:8080/"
        },
        "id": "RB2pnvUnlUGG",
        "outputId": "1ce475a6-d0ec-4765-f16a-55eae79f16d8"
      },
      "execution_count": 52,
      "outputs": [
        {
          "output_type": "stream",
          "name": "stdout",
          "text": [
            "Enter your First Name:Dinash\n",
            "Enter your Last Name:Maliya\n",
            "Enter your Age:32\n",
            "Dinash Maliya 32\n"
          ]
        }
      ]
    },
    {
      "cell_type": "code",
      "source": [
        "#take input in int/float\n",
        "Mynumber=int(input(\"Enter your FavNumber:\"))\n",
        "print(\"Your Favourite number is:\",int(Mynumber))\n"
      ],
      "metadata": {
        "id": "b8ixSNHMt7KZ"
      },
      "execution_count": null,
      "outputs": []
    },
    {
      "cell_type": "code",
      "source": [
        "#Slicing\n",
        "name=\"Sir Dinash Maliya\"\n",
        "#name[0]\n",
        "#name[-1]\n",
        "#name[7]\n",
        "#name[0:10]\n",
        "#name[0:]\n",
        "#name[-6:0]\n",
        "#name[-15:-6]\n",
        "#name[:4]\n",
        "#name[::-1]\n",
        "#name[::1]\n",
        "#name[::2]\n",
        "#name[-2::]\n"
      ],
      "metadata": {
        "colab": {
          "base_uri": "https://localhost:8080/",
          "height": 36
        },
        "id": "pVmFMvHevWBz",
        "outputId": "087ebcb5-d21f-4ce9-cbec-a6419037df9d"
      },
      "execution_count": 73,
      "outputs": [
        {
          "output_type": "execute_result",
          "data": {
            "text/plain": [
              "'ya'"
            ],
            "application/vnd.google.colaboratory.intrinsic+json": {
              "type": "string"
            }
          },
          "metadata": {},
          "execution_count": 73
        }
      ]
    },
    {
      "cell_type": "code",
      "source": [
        "\n",
        "\"Instrcutor: \"+name.upper()[0:9] + \" Applied Programming\""
      ],
      "metadata": {
        "id": "wCFXWrWuxexh"
      },
      "execution_count": null,
      "outputs": []
    },
    {
      "cell_type": "code",
      "source": [
        "#string Formating\n",
        "name=\"Sir Dinash\"\n",
        "name.upper()\n",
        "name.lower()\n",
        "name.split()\n",
        "print(name.lower())"
      ],
      "metadata": {
        "id": "aPpB3opfyOTW"
      },
      "execution_count": null,
      "outputs": []
    },
    {
      "cell_type": "code",
      "source": [],
      "metadata": {
        "id": "yzn23fsNx3Zc"
      },
      "execution_count": null,
      "outputs": []
    }
  ]
}